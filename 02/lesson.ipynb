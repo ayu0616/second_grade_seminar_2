{
 "cells": [
  {
   "cell_type": "code",
   "execution_count": 1,
   "metadata": {
    "vscode": {
     "languageId": "r"
    }
   },
   "outputs": [],
   "source": [
    "iris.lab <- c(rep(\"S\", 50), rep(\"C\", 50), rep(\"V\", 50))\n",
    "iris1 <- data.frame(iris[, 1:4], Species = iris.lab)\n",
    "even.n <- 2 * (1:75) - 1\n",
    "iris.train <- iris1[even.n, ]\n",
    "iris.test <- iris1[-even.n, ]\n"
   ]
  },
  {
   "cell_type": "code",
   "execution_count": 2,
   "metadata": {
    "vscode": {
     "languageId": "r"
    }
   },
   "outputs": [],
   "source": [
    "library(MASS)\n"
   ]
  },
  {
   "cell_type": "code",
   "execution_count": 4,
   "metadata": {
    "vscode": {
     "languageId": "r"
    }
   },
   "outputs": [
    {
     "data": {
      "text/plain": [
       "Call:\n",
       "qda(Species ~ ., data = iris.train)\n",
       "\n",
       "Prior probabilities of groups:\n",
       "        C         S         V \n",
       "0.3333333 0.3333333 0.3333333 \n",
       "\n",
       "Group means:\n",
       "  Sepal.Length Sepal.Width Petal.Length Petal.Width\n",
       "C        5.992       2.776        4.308       1.352\n",
       "S        5.024       3.480        1.456       0.228\n",
       "V        6.504       2.936        5.564       2.076"
      ]
     },
     "metadata": {},
     "output_type": "display_data"
    }
   ],
   "source": [
    "(Z.qda <- qda(Species ~ ., iris.train))\n"
   ]
  },
  {
   "cell_type": "code",
   "execution_count": 7,
   "metadata": {
    "vscode": {
     "languageId": "r"
    }
   },
   "outputs": [
    {
     "data": {
      "text/html": [
       "<dl>\n",
       "\t<dt>$class</dt>\n",
       "\t\t<dd><style>\n",
       ".list-inline {list-style: none; margin:0; padding: 0}\n",
       ".list-inline>li {display: inline-block}\n",
       ".list-inline>li:not(:last-child)::after {content: \"\\00b7\"; padding: 0 .5ex}\n",
       "</style>\n",
       "<ol class=list-inline><li>S</li><li>S</li><li>S</li><li>S</li><li>S</li><li>S</li><li>S</li><li>S</li><li>S</li><li>S</li><li>S</li><li>S</li><li>S</li><li>S</li><li>S</li><li>S</li><li>S</li><li>S</li><li>S</li><li>S</li><li>S</li><li>S</li><li>S</li><li>S</li><li>S</li><li>C</li><li>C</li><li>C</li><li>C</li><li>C</li><li>C</li><li>C</li><li>C</li><li>C</li><li>C</li><li>V</li><li>C</li><li>C</li><li>C</li><li>C</li><li>C</li><li>C</li><li>C</li><li>C</li><li>C</li><li>C</li><li>C</li><li>C</li><li>C</li><li>C</li><li>V</li><li>V</li><li>V</li><li>V</li><li>V</li><li>V</li><li>V</li><li>V</li><li>V</li><li>V</li><li>V</li><li>V</li><li>V</li><li>V</li><li>V</li><li>V</li><li>V</li><li>V</li><li>V</li><li>V</li><li>V</li><li>V</li><li>V</li><li>V</li><li>V</li></ol>\n",
       "\n",
       "<details>\n",
       "\t<summary style=display:list-item;cursor:pointer>\n",
       "\t\t<strong>Levels</strong>:\n",
       "\t</summary>\n",
       "\t<style>\n",
       "\t.list-inline {list-style: none; margin:0; padding: 0}\n",
       "\t.list-inline>li {display: inline-block}\n",
       "\t.list-inline>li:not(:last-child)::after {content: \"\\00b7\"; padding: 0 .5ex}\n",
       "\t</style>\n",
       "\t<ol class=list-inline><li>'C'</li><li>'S'</li><li>'V'</li></ol>\n",
       "</details></dd>\n",
       "\t<dt>$posterior</dt>\n",
       "\t\t<dd><table class=\"dataframe\">\n",
       "<caption>A matrix: 75 × 3 of type dbl</caption>\n",
       "<thead>\n",
       "\t<tr><th></th><th scope=col>C</th><th scope=col>S</th><th scope=col>V</th></tr>\n",
       "</thead>\n",
       "<tbody>\n",
       "\t<tr><th scope=row>1</th><td>9.006323e-27</td><td> 1.000000e+00</td><td>5.087992e-39</td></tr>\n",
       "\t<tr><th scope=row>3</th><td>2.598131e-22</td><td> 1.000000e+00</td><td>1.983369e-33</td></tr>\n",
       "\t<tr><th scope=row>5</th><td>5.823856e-28</td><td> 1.000000e+00</td><td>3.809439e-39</td></tr>\n",
       "\t<tr><th scope=row>7</th><td>6.213345e-22</td><td> 1.000000e+00</td><td>1.191792e-31</td></tr>\n",
       "\t<tr><th scope=row>9</th><td>1.541072e-17</td><td> 1.000000e+00</td><td>4.351177e-27</td></tr>\n",
       "\t<tr><th scope=row>11</th><td>9.793238e-30</td><td> 1.000000e+00</td><td>6.749783e-43</td></tr>\n",
       "\t<tr><th scope=row>13</th><td>5.805288e-21</td><td> 1.000000e+00</td><td>5.532494e-32</td></tr>\n",
       "\t<tr><th scope=row>15</th><td>2.050272e-37</td><td> 1.000000e+00</td><td>2.941478e-55</td></tr>\n",
       "\t<tr><th scope=row>17</th><td>2.562007e-29</td><td> 1.000000e+00</td><td>3.594989e-44</td></tr>\n",
       "\t<tr><th scope=row>19</th><td>5.351743e-28</td><td> 1.000000e+00</td><td>1.758643e-42</td></tr>\n",
       "\t<tr><th scope=row>21</th><td>1.049381e-23</td><td> 1.000000e+00</td><td>3.826671e-36</td></tr>\n",
       "\t<tr><th scope=row>23</th><td>2.956547e-28</td><td> 1.000000e+00</td><td>3.661509e-39</td></tr>\n",
       "\t<tr><th scope=row>25</th><td>4.279656e-22</td><td> 1.000000e+00</td><td>1.792501e-28</td></tr>\n",
       "\t<tr><th scope=row>27</th><td>4.027710e-19</td><td> 1.000000e+00</td><td>9.691432e-31</td></tr>\n",
       "\t<tr><th scope=row>29</th><td>1.834571e-25</td><td> 1.000000e+00</td><td>8.416277e-39</td></tr>\n",
       "\t<tr><th scope=row>31</th><td>1.231116e-19</td><td> 1.000000e+00</td><td>1.415832e-29</td></tr>\n",
       "\t<tr><th scope=row>33</th><td>2.796823e-37</td><td> 1.000000e+00</td><td>1.279444e-46</td></tr>\n",
       "\t<tr><th scope=row>35</th><td>3.138353e-20</td><td> 1.000000e+00</td><td>1.139697e-31</td></tr>\n",
       "\t<tr><th scope=row>37</th><td>5.288411e-28</td><td> 1.000000e+00</td><td>4.167299e-44</td></tr>\n",
       "\t<tr><th scope=row>39</th><td>3.693929e-19</td><td> 1.000000e+00</td><td>5.320088e-29</td></tr>\n",
       "\t<tr><th scope=row>41</th><td>5.882300e-25</td><td> 1.000000e+00</td><td>1.033941e-37</td></tr>\n",
       "\t<tr><th scope=row>43</th><td>1.390704e-21</td><td> 1.000000e+00</td><td>1.248979e-30</td></tr>\n",
       "\t<tr><th scope=row>45</th><td>2.166234e-22</td><td> 1.000000e+00</td><td>5.903305e-32</td></tr>\n",
       "\t<tr><th scope=row>47</th><td>6.194453e-30</td><td> 1.000000e+00</td><td>9.336613e-40</td></tr>\n",
       "\t<tr><th scope=row>49</th><td>1.519440e-29</td><td> 1.000000e+00</td><td>6.218694e-42</td></tr>\n",
       "\t<tr><th scope=row>51</th><td>9.999964e-01</td><td> 6.526284e-95</td><td>3.601202e-06</td></tr>\n",
       "\t<tr><th scope=row>53</th><td>9.997379e-01</td><td>7.666934e-109</td><td>2.621181e-04</td></tr>\n",
       "\t<tr><th scope=row>55</th><td>9.986104e-01</td><td>1.452508e-102</td><td>1.389609e-03</td></tr>\n",
       "\t<tr><th scope=row>57</th><td>9.983390e-01</td><td>1.453744e-104</td><td>1.661018e-03</td></tr>\n",
       "\t<tr><th scope=row>59</th><td>9.999213e-01</td><td> 1.033537e-86</td><td>7.865903e-05</td></tr>\n",
       "\t<tr><th scope=row>⋮</th><td>⋮</td><td>⋮</td><td>⋮</td></tr>\n",
       "\t<tr><th scope=row>91</th><td>9.628967e-01</td><td> 4.292971e-71</td><td>3.710332e-02</td></tr>\n",
       "\t<tr><th scope=row>93</th><td>9.999542e-01</td><td> 3.487461e-65</td><td>4.581267e-05</td></tr>\n",
       "\t<tr><th scope=row>95</th><td>9.982090e-01</td><td> 2.009121e-73</td><td>1.790979e-03</td></tr>\n",
       "\t<tr><th scope=row>97</th><td>9.994336e-01</td><td> 2.125827e-71</td><td>5.663560e-04</td></tr>\n",
       "\t<tr><th scope=row>99</th><td>9.999992e-01</td><td> 4.164277e-39</td><td>8.390061e-07</td></tr>\n",
       "\t<tr><th scope=row>101</th><td>5.535677e-10</td><td>3.049287e-247</td><td>1.000000e+00</td></tr>\n",
       "\t<tr><th scope=row>103</th><td>3.990805e-05</td><td>4.548334e-203</td><td>9.999601e-01</td></tr>\n",
       "\t<tr><th scope=row>105</th><td>9.443966e-07</td><td>1.101456e-206</td><td>9.999991e-01</td></tr>\n",
       "\t<tr><th scope=row>107</th><td>1.492934e-02</td><td>6.476947e-112</td><td>9.850707e-01</td></tr>\n",
       "\t<tr><th scope=row>109</th><td>1.595582e-04</td><td>3.527303e-172</td><td>9.998404e-01</td></tr>\n",
       "\t<tr><th scope=row>111</th><td>4.123099e-03</td><td>1.162104e-157</td><td>9.958769e-01</td></tr>\n",
       "\t<tr><th scope=row>113</th><td>2.647682e-05</td><td>2.483917e-187</td><td>9.999735e-01</td></tr>\n",
       "\t<tr><th scope=row>115</th><td>1.907685e-14</td><td>5.267099e-212</td><td>1.000000e+00</td></tr>\n",
       "\t<tr><th scope=row>117</th><td>5.970553e-02</td><td>3.115869e-151</td><td>9.402945e-01</td></tr>\n",
       "\t<tr><th scope=row>119</th><td>2.868287e-11</td><td>9.615703e-282</td><td>1.000000e+00</td></tr>\n",
       "\t<tr><th scope=row>121</th><td>9.103963e-08</td><td>2.448317e-216</td><td>9.999999e-01</td></tr>\n",
       "\t<tr><th scope=row>123</th><td>6.454635e-07</td><td>9.046253e-233</td><td>9.999994e-01</td></tr>\n",
       "\t<tr><th scope=row>125</th><td>1.360227e-03</td><td>3.854322e-187</td><td>9.986398e-01</td></tr>\n",
       "\t<tr><th scope=row>127</th><td>4.622398e-02</td><td>3.836957e-132</td><td>9.537760e-01</td></tr>\n",
       "\t<tr><th scope=row>129</th><td>2.460101e-06</td><td>1.108465e-190</td><td>9.999975e-01</td></tr>\n",
       "\t<tr><th scope=row>131</th><td>3.431861e-04</td><td>6.867469e-195</td><td>9.996568e-01</td></tr>\n",
       "\t<tr><th scope=row>133</th><td>4.179096e-08</td><td>3.450429e-203</td><td>1.000000e+00</td></tr>\n",
       "\t<tr><th scope=row>135</th><td>1.478663e-04</td><td>1.492339e-122</td><td>9.998521e-01</td></tr>\n",
       "\t<tr><th scope=row>137</th><td>1.085934e-08</td><td>2.642822e-219</td><td>1.000000e+00</td></tr>\n",
       "\t<tr><th scope=row>139</th><td>1.272300e-01</td><td>6.302360e-128</td><td>8.727700e-01</td></tr>\n",
       "\t<tr><th scope=row>141</th><td>4.769963e-11</td><td>2.141352e-227</td><td>1.000000e+00</td></tr>\n",
       "\t<tr><th scope=row>143</th><td>4.362704e-04</td><td>4.710928e-150</td><td>9.995637e-01</td></tr>\n",
       "\t<tr><th scope=row>145</th><td>6.349529e-12</td><td>2.860556e-241</td><td>1.000000e+00</td></tr>\n",
       "\t<tr><th scope=row>147</th><td>1.582529e-04</td><td>4.441610e-154</td><td>9.998417e-01</td></tr>\n",
       "\t<tr><th scope=row>149</th><td>3.911905e-07</td><td>3.777035e-199</td><td>9.999996e-01</td></tr>\n",
       "</tbody>\n",
       "</table>\n",
       "</dd>\n",
       "</dl>\n"
      ],
      "text/latex": [
       "\\begin{description}\n",
       "\\item[\\$class] \\begin{enumerate*}\n",
       "\\item S\n",
       "\\item S\n",
       "\\item S\n",
       "\\item S\n",
       "\\item S\n",
       "\\item S\n",
       "\\item S\n",
       "\\item S\n",
       "\\item S\n",
       "\\item S\n",
       "\\item S\n",
       "\\item S\n",
       "\\item S\n",
       "\\item S\n",
       "\\item S\n",
       "\\item S\n",
       "\\item S\n",
       "\\item S\n",
       "\\item S\n",
       "\\item S\n",
       "\\item S\n",
       "\\item S\n",
       "\\item S\n",
       "\\item S\n",
       "\\item S\n",
       "\\item C\n",
       "\\item C\n",
       "\\item C\n",
       "\\item C\n",
       "\\item C\n",
       "\\item C\n",
       "\\item C\n",
       "\\item C\n",
       "\\item C\n",
       "\\item C\n",
       "\\item V\n",
       "\\item C\n",
       "\\item C\n",
       "\\item C\n",
       "\\item C\n",
       "\\item C\n",
       "\\item C\n",
       "\\item C\n",
       "\\item C\n",
       "\\item C\n",
       "\\item C\n",
       "\\item C\n",
       "\\item C\n",
       "\\item C\n",
       "\\item C\n",
       "\\item V\n",
       "\\item V\n",
       "\\item V\n",
       "\\item V\n",
       "\\item V\n",
       "\\item V\n",
       "\\item V\n",
       "\\item V\n",
       "\\item V\n",
       "\\item V\n",
       "\\item V\n",
       "\\item V\n",
       "\\item V\n",
       "\\item V\n",
       "\\item V\n",
       "\\item V\n",
       "\\item V\n",
       "\\item V\n",
       "\\item V\n",
       "\\item V\n",
       "\\item V\n",
       "\\item V\n",
       "\\item V\n",
       "\\item V\n",
       "\\item V\n",
       "\\end{enumerate*}\n",
       "\n",
       "\\emph{Levels}: \\begin{enumerate*}\n",
       "\\item 'C'\n",
       "\\item 'S'\n",
       "\\item 'V'\n",
       "\\end{enumerate*}\n",
       "\n",
       "\\item[\\$posterior] A matrix: 75 × 3 of type dbl\n",
       "\\begin{tabular}{r|lll}\n",
       "  & C & S & V\\\\\n",
       "\\hline\n",
       "\t1 & 9.006323e-27 &  1.000000e+00 & 5.087992e-39\\\\\n",
       "\t3 & 2.598131e-22 &  1.000000e+00 & 1.983369e-33\\\\\n",
       "\t5 & 5.823856e-28 &  1.000000e+00 & 3.809439e-39\\\\\n",
       "\t7 & 6.213345e-22 &  1.000000e+00 & 1.191792e-31\\\\\n",
       "\t9 & 1.541072e-17 &  1.000000e+00 & 4.351177e-27\\\\\n",
       "\t11 & 9.793238e-30 &  1.000000e+00 & 6.749783e-43\\\\\n",
       "\t13 & 5.805288e-21 &  1.000000e+00 & 5.532494e-32\\\\\n",
       "\t15 & 2.050272e-37 &  1.000000e+00 & 2.941478e-55\\\\\n",
       "\t17 & 2.562007e-29 &  1.000000e+00 & 3.594989e-44\\\\\n",
       "\t19 & 5.351743e-28 &  1.000000e+00 & 1.758643e-42\\\\\n",
       "\t21 & 1.049381e-23 &  1.000000e+00 & 3.826671e-36\\\\\n",
       "\t23 & 2.956547e-28 &  1.000000e+00 & 3.661509e-39\\\\\n",
       "\t25 & 4.279656e-22 &  1.000000e+00 & 1.792501e-28\\\\\n",
       "\t27 & 4.027710e-19 &  1.000000e+00 & 9.691432e-31\\\\\n",
       "\t29 & 1.834571e-25 &  1.000000e+00 & 8.416277e-39\\\\\n",
       "\t31 & 1.231116e-19 &  1.000000e+00 & 1.415832e-29\\\\\n",
       "\t33 & 2.796823e-37 &  1.000000e+00 & 1.279444e-46\\\\\n",
       "\t35 & 3.138353e-20 &  1.000000e+00 & 1.139697e-31\\\\\n",
       "\t37 & 5.288411e-28 &  1.000000e+00 & 4.167299e-44\\\\\n",
       "\t39 & 3.693929e-19 &  1.000000e+00 & 5.320088e-29\\\\\n",
       "\t41 & 5.882300e-25 &  1.000000e+00 & 1.033941e-37\\\\\n",
       "\t43 & 1.390704e-21 &  1.000000e+00 & 1.248979e-30\\\\\n",
       "\t45 & 2.166234e-22 &  1.000000e+00 & 5.903305e-32\\\\\n",
       "\t47 & 6.194453e-30 &  1.000000e+00 & 9.336613e-40\\\\\n",
       "\t49 & 1.519440e-29 &  1.000000e+00 & 6.218694e-42\\\\\n",
       "\t51 & 9.999964e-01 &  6.526284e-95 & 3.601202e-06\\\\\n",
       "\t53 & 9.997379e-01 & 7.666934e-109 & 2.621181e-04\\\\\n",
       "\t55 & 9.986104e-01 & 1.452508e-102 & 1.389609e-03\\\\\n",
       "\t57 & 9.983390e-01 & 1.453744e-104 & 1.661018e-03\\\\\n",
       "\t59 & 9.999213e-01 &  1.033537e-86 & 7.865903e-05\\\\\n",
       "\t⋮ & ⋮ & ⋮ & ⋮\\\\\n",
       "\t91 & 9.628967e-01 &  4.292971e-71 & 3.710332e-02\\\\\n",
       "\t93 & 9.999542e-01 &  3.487461e-65 & 4.581267e-05\\\\\n",
       "\t95 & 9.982090e-01 &  2.009121e-73 & 1.790979e-03\\\\\n",
       "\t97 & 9.994336e-01 &  2.125827e-71 & 5.663560e-04\\\\\n",
       "\t99 & 9.999992e-01 &  4.164277e-39 & 8.390061e-07\\\\\n",
       "\t101 & 5.535677e-10 & 3.049287e-247 & 1.000000e+00\\\\\n",
       "\t103 & 3.990805e-05 & 4.548334e-203 & 9.999601e-01\\\\\n",
       "\t105 & 9.443966e-07 & 1.101456e-206 & 9.999991e-01\\\\\n",
       "\t107 & 1.492934e-02 & 6.476947e-112 & 9.850707e-01\\\\\n",
       "\t109 & 1.595582e-04 & 3.527303e-172 & 9.998404e-01\\\\\n",
       "\t111 & 4.123099e-03 & 1.162104e-157 & 9.958769e-01\\\\\n",
       "\t113 & 2.647682e-05 & 2.483917e-187 & 9.999735e-01\\\\\n",
       "\t115 & 1.907685e-14 & 5.267099e-212 & 1.000000e+00\\\\\n",
       "\t117 & 5.970553e-02 & 3.115869e-151 & 9.402945e-01\\\\\n",
       "\t119 & 2.868287e-11 & 9.615703e-282 & 1.000000e+00\\\\\n",
       "\t121 & 9.103963e-08 & 2.448317e-216 & 9.999999e-01\\\\\n",
       "\t123 & 6.454635e-07 & 9.046253e-233 & 9.999994e-01\\\\\n",
       "\t125 & 1.360227e-03 & 3.854322e-187 & 9.986398e-01\\\\\n",
       "\t127 & 4.622398e-02 & 3.836957e-132 & 9.537760e-01\\\\\n",
       "\t129 & 2.460101e-06 & 1.108465e-190 & 9.999975e-01\\\\\n",
       "\t131 & 3.431861e-04 & 6.867469e-195 & 9.996568e-01\\\\\n",
       "\t133 & 4.179096e-08 & 3.450429e-203 & 1.000000e+00\\\\\n",
       "\t135 & 1.478663e-04 & 1.492339e-122 & 9.998521e-01\\\\\n",
       "\t137 & 1.085934e-08 & 2.642822e-219 & 1.000000e+00\\\\\n",
       "\t139 & 1.272300e-01 & 6.302360e-128 & 8.727700e-01\\\\\n",
       "\t141 & 4.769963e-11 & 2.141352e-227 & 1.000000e+00\\\\\n",
       "\t143 & 4.362704e-04 & 4.710928e-150 & 9.995637e-01\\\\\n",
       "\t145 & 6.349529e-12 & 2.860556e-241 & 1.000000e+00\\\\\n",
       "\t147 & 1.582529e-04 & 4.441610e-154 & 9.998417e-01\\\\\n",
       "\t149 & 3.911905e-07 & 3.777035e-199 & 9.999996e-01\\\\\n",
       "\\end{tabular}\n",
       "\n",
       "\\end{description}\n"
      ],
      "text/markdown": [
       "$class\n",
       ":   1. S\n",
       "2. S\n",
       "3. S\n",
       "4. S\n",
       "5. S\n",
       "6. S\n",
       "7. S\n",
       "8. S\n",
       "9. S\n",
       "10. S\n",
       "11. S\n",
       "12. S\n",
       "13. S\n",
       "14. S\n",
       "15. S\n",
       "16. S\n",
       "17. S\n",
       "18. S\n",
       "19. S\n",
       "20. S\n",
       "21. S\n",
       "22. S\n",
       "23. S\n",
       "24. S\n",
       "25. S\n",
       "26. C\n",
       "27. C\n",
       "28. C\n",
       "29. C\n",
       "30. C\n",
       "31. C\n",
       "32. C\n",
       "33. C\n",
       "34. C\n",
       "35. C\n",
       "36. V\n",
       "37. C\n",
       "38. C\n",
       "39. C\n",
       "40. C\n",
       "41. C\n",
       "42. C\n",
       "43. C\n",
       "44. C\n",
       "45. C\n",
       "46. C\n",
       "47. C\n",
       "48. C\n",
       "49. C\n",
       "50. C\n",
       "51. V\n",
       "52. V\n",
       "53. V\n",
       "54. V\n",
       "55. V\n",
       "56. V\n",
       "57. V\n",
       "58. V\n",
       "59. V\n",
       "60. V\n",
       "61. V\n",
       "62. V\n",
       "63. V\n",
       "64. V\n",
       "65. V\n",
       "66. V\n",
       "67. V\n",
       "68. V\n",
       "69. V\n",
       "70. V\n",
       "71. V\n",
       "72. V\n",
       "73. V\n",
       "74. V\n",
       "75. V\n",
       "\n",
       "\n",
       "\n",
       "**Levels**: 1. 'C'\n",
       "2. 'S'\n",
       "3. 'V'\n",
       "\n",
       "\n",
       "\n",
       "$posterior\n",
       ":   \n",
       "A matrix: 75 × 3 of type dbl\n",
       "\n",
       "| <!--/--> | C | S | V |\n",
       "|---|---|---|---|\n",
       "| 1 | 9.006323e-27 |  1.000000e+00 | 5.087992e-39 |\n",
       "| 3 | 2.598131e-22 |  1.000000e+00 | 1.983369e-33 |\n",
       "| 5 | 5.823856e-28 |  1.000000e+00 | 3.809439e-39 |\n",
       "| 7 | 6.213345e-22 |  1.000000e+00 | 1.191792e-31 |\n",
       "| 9 | 1.541072e-17 |  1.000000e+00 | 4.351177e-27 |\n",
       "| 11 | 9.793238e-30 |  1.000000e+00 | 6.749783e-43 |\n",
       "| 13 | 5.805288e-21 |  1.000000e+00 | 5.532494e-32 |\n",
       "| 15 | 2.050272e-37 |  1.000000e+00 | 2.941478e-55 |\n",
       "| 17 | 2.562007e-29 |  1.000000e+00 | 3.594989e-44 |\n",
       "| 19 | 5.351743e-28 |  1.000000e+00 | 1.758643e-42 |\n",
       "| 21 | 1.049381e-23 |  1.000000e+00 | 3.826671e-36 |\n",
       "| 23 | 2.956547e-28 |  1.000000e+00 | 3.661509e-39 |\n",
       "| 25 | 4.279656e-22 |  1.000000e+00 | 1.792501e-28 |\n",
       "| 27 | 4.027710e-19 |  1.000000e+00 | 9.691432e-31 |\n",
       "| 29 | 1.834571e-25 |  1.000000e+00 | 8.416277e-39 |\n",
       "| 31 | 1.231116e-19 |  1.000000e+00 | 1.415832e-29 |\n",
       "| 33 | 2.796823e-37 |  1.000000e+00 | 1.279444e-46 |\n",
       "| 35 | 3.138353e-20 |  1.000000e+00 | 1.139697e-31 |\n",
       "| 37 | 5.288411e-28 |  1.000000e+00 | 4.167299e-44 |\n",
       "| 39 | 3.693929e-19 |  1.000000e+00 | 5.320088e-29 |\n",
       "| 41 | 5.882300e-25 |  1.000000e+00 | 1.033941e-37 |\n",
       "| 43 | 1.390704e-21 |  1.000000e+00 | 1.248979e-30 |\n",
       "| 45 | 2.166234e-22 |  1.000000e+00 | 5.903305e-32 |\n",
       "| 47 | 6.194453e-30 |  1.000000e+00 | 9.336613e-40 |\n",
       "| 49 | 1.519440e-29 |  1.000000e+00 | 6.218694e-42 |\n",
       "| 51 | 9.999964e-01 |  6.526284e-95 | 3.601202e-06 |\n",
       "| 53 | 9.997379e-01 | 7.666934e-109 | 2.621181e-04 |\n",
       "| 55 | 9.986104e-01 | 1.452508e-102 | 1.389609e-03 |\n",
       "| 57 | 9.983390e-01 | 1.453744e-104 | 1.661018e-03 |\n",
       "| 59 | 9.999213e-01 |  1.033537e-86 | 7.865903e-05 |\n",
       "| ⋮ | ⋮ | ⋮ | ⋮ |\n",
       "| 91 | 9.628967e-01 |  4.292971e-71 | 3.710332e-02 |\n",
       "| 93 | 9.999542e-01 |  3.487461e-65 | 4.581267e-05 |\n",
       "| 95 | 9.982090e-01 |  2.009121e-73 | 1.790979e-03 |\n",
       "| 97 | 9.994336e-01 |  2.125827e-71 | 5.663560e-04 |\n",
       "| 99 | 9.999992e-01 |  4.164277e-39 | 8.390061e-07 |\n",
       "| 101 | 5.535677e-10 | 3.049287e-247 | 1.000000e+00 |\n",
       "| 103 | 3.990805e-05 | 4.548334e-203 | 9.999601e-01 |\n",
       "| 105 | 9.443966e-07 | 1.101456e-206 | 9.999991e-01 |\n",
       "| 107 | 1.492934e-02 | 6.476947e-112 | 9.850707e-01 |\n",
       "| 109 | 1.595582e-04 | 3.527303e-172 | 9.998404e-01 |\n",
       "| 111 | 4.123099e-03 | 1.162104e-157 | 9.958769e-01 |\n",
       "| 113 | 2.647682e-05 | 2.483917e-187 | 9.999735e-01 |\n",
       "| 115 | 1.907685e-14 | 5.267099e-212 | 1.000000e+00 |\n",
       "| 117 | 5.970553e-02 | 3.115869e-151 | 9.402945e-01 |\n",
       "| 119 | 2.868287e-11 | 9.615703e-282 | 1.000000e+00 |\n",
       "| 121 | 9.103963e-08 | 2.448317e-216 | 9.999999e-01 |\n",
       "| 123 | 6.454635e-07 | 9.046253e-233 | 9.999994e-01 |\n",
       "| 125 | 1.360227e-03 | 3.854322e-187 | 9.986398e-01 |\n",
       "| 127 | 4.622398e-02 | 3.836957e-132 | 9.537760e-01 |\n",
       "| 129 | 2.460101e-06 | 1.108465e-190 | 9.999975e-01 |\n",
       "| 131 | 3.431861e-04 | 6.867469e-195 | 9.996568e-01 |\n",
       "| 133 | 4.179096e-08 | 3.450429e-203 | 1.000000e+00 |\n",
       "| 135 | 1.478663e-04 | 1.492339e-122 | 9.998521e-01 |\n",
       "| 137 | 1.085934e-08 | 2.642822e-219 | 1.000000e+00 |\n",
       "| 139 | 1.272300e-01 | 6.302360e-128 | 8.727700e-01 |\n",
       "| 141 | 4.769963e-11 | 2.141352e-227 | 1.000000e+00 |\n",
       "| 143 | 4.362704e-04 | 4.710928e-150 | 9.995637e-01 |\n",
       "| 145 | 6.349529e-12 | 2.860556e-241 | 1.000000e+00 |\n",
       "| 147 | 1.582529e-04 | 4.441610e-154 | 9.998417e-01 |\n",
       "| 149 | 3.911905e-07 | 3.777035e-199 | 9.999996e-01 |\n",
       "\n",
       "\n",
       "\n",
       "\n"
      ],
      "text/plain": [
       "$class\n",
       " [1] S S S S S S S S S S S S S S S S S S S S S S S S S C C C C C C C C C C V C C\n",
       "[39] C C C C C C C C C C C C V V V V V V V V V V V V V V V V V V V V V V V V V\n",
       "Levels: C S V\n",
       "\n",
       "$posterior\n",
       "               C             S            V\n",
       "1   9.006323e-27  1.000000e+00 5.087992e-39\n",
       "3   2.598131e-22  1.000000e+00 1.983369e-33\n",
       "5   5.823856e-28  1.000000e+00 3.809439e-39\n",
       "7   6.213345e-22  1.000000e+00 1.191792e-31\n",
       "9   1.541072e-17  1.000000e+00 4.351177e-27\n",
       "11  9.793238e-30  1.000000e+00 6.749783e-43\n",
       "13  5.805288e-21  1.000000e+00 5.532494e-32\n",
       "15  2.050272e-37  1.000000e+00 2.941478e-55\n",
       "17  2.562007e-29  1.000000e+00 3.594989e-44\n",
       "19  5.351743e-28  1.000000e+00 1.758643e-42\n",
       "21  1.049381e-23  1.000000e+00 3.826671e-36\n",
       "23  2.956547e-28  1.000000e+00 3.661509e-39\n",
       "25  4.279656e-22  1.000000e+00 1.792501e-28\n",
       "27  4.027710e-19  1.000000e+00 9.691432e-31\n",
       "29  1.834571e-25  1.000000e+00 8.416277e-39\n",
       "31  1.231116e-19  1.000000e+00 1.415832e-29\n",
       "33  2.796823e-37  1.000000e+00 1.279444e-46\n",
       "35  3.138353e-20  1.000000e+00 1.139697e-31\n",
       "37  5.288411e-28  1.000000e+00 4.167299e-44\n",
       "39  3.693929e-19  1.000000e+00 5.320088e-29\n",
       "41  5.882300e-25  1.000000e+00 1.033941e-37\n",
       "43  1.390704e-21  1.000000e+00 1.248979e-30\n",
       "45  2.166234e-22  1.000000e+00 5.903305e-32\n",
       "47  6.194453e-30  1.000000e+00 9.336613e-40\n",
       "49  1.519440e-29  1.000000e+00 6.218694e-42\n",
       "51  9.999964e-01  6.526284e-95 3.601202e-06\n",
       "53  9.997379e-01 7.666934e-109 2.621181e-04\n",
       "55  9.986104e-01 1.452508e-102 1.389609e-03\n",
       "57  9.983390e-01 1.453744e-104 1.661018e-03\n",
       "59  9.999213e-01  1.033537e-86 7.865903e-05\n",
       "61  9.999857e-01  5.133444e-47 1.434996e-05\n",
       "63  9.999930e-01  8.264068e-61 7.042906e-06\n",
       "65  9.999813e-01  6.588085e-59 1.865864e-05\n",
       "67  9.763870e-01  1.721343e-91 2.361297e-02\n",
       "69  9.629237e-01 1.287189e-106 3.707628e-02\n",
       "71  4.049201e-01 1.376036e-124 5.950799e-01\n",
       "73  8.027238e-01 5.456213e-113 1.972762e-01\n",
       "75  9.999891e-01  3.907888e-78 1.093340e-05\n",
       "77  9.995647e-01 1.321304e-102 4.353077e-04\n",
       "79  9.931300e-01  5.224777e-95 6.870005e-03\n",
       "81  9.999668e-01  7.261188e-56 3.319252e-05\n",
       "83  9.999853e-01  8.853453e-62 1.468155e-05\n",
       "85  9.522485e-01  1.467574e-90 4.775152e-02\n",
       "87  9.998404e-01 5.746556e-102 1.596080e-04\n",
       "89  9.996738e-01  1.449176e-67 3.262135e-04\n",
       "91  9.628967e-01  4.292971e-71 3.710332e-02\n",
       "93  9.999542e-01  3.487461e-65 4.581267e-05\n",
       "95  9.982090e-01  2.009121e-73 1.790979e-03\n",
       "97  9.994336e-01  2.125827e-71 5.663560e-04\n",
       "99  9.999992e-01  4.164277e-39 8.390061e-07\n",
       "101 5.535677e-10 3.049287e-247 1.000000e+00\n",
       "103 3.990805e-05 4.548334e-203 9.999601e-01\n",
       "105 9.443966e-07 1.101456e-206 9.999991e-01\n",
       "107 1.492934e-02 6.476947e-112 9.850707e-01\n",
       "109 1.595582e-04 3.527303e-172 9.998404e-01\n",
       "111 4.123099e-03 1.162104e-157 9.958769e-01\n",
       "113 2.647682e-05 2.483917e-187 9.999735e-01\n",
       "115 1.907685e-14 5.267099e-212 1.000000e+00\n",
       "117 5.970553e-02 3.115869e-151 9.402945e-01\n",
       "119 2.868287e-11 9.615703e-282 1.000000e+00\n",
       "121 9.103963e-08 2.448317e-216 9.999999e-01\n",
       "123 6.454635e-07 9.046253e-233 9.999994e-01\n",
       "125 1.360227e-03 3.854322e-187 9.986398e-01\n",
       "127 4.622398e-02 3.836957e-132 9.537760e-01\n",
       "129 2.460101e-06 1.108465e-190 9.999975e-01\n",
       "131 3.431861e-04 6.867469e-195 9.996568e-01\n",
       "133 4.179096e-08 3.450429e-203 1.000000e+00\n",
       "135 1.478663e-04 1.492339e-122 9.998521e-01\n",
       "137 1.085934e-08 2.642822e-219 1.000000e+00\n",
       "139 1.272300e-01 6.302360e-128 8.727700e-01\n",
       "141 4.769963e-11 2.141352e-227 1.000000e+00\n",
       "143 4.362704e-04 4.710928e-150 9.995637e-01\n",
       "145 6.349529e-12 2.860556e-241 1.000000e+00\n",
       "147 1.582529e-04 4.441610e-154 9.998417e-01\n",
       "149 3.911905e-07 3.777035e-199 9.999996e-01\n"
      ]
     },
     "metadata": {},
     "output_type": "display_data"
    }
   ],
   "source": [
    "predict(Z.qda)\n"
   ]
  },
  {
   "cell_type": "code",
   "execution_count": 14,
   "metadata": {
    "vscode": {
     "languageId": "r"
    }
   },
   "outputs": [
    {
     "data": {
      "text/plain": [
       "   \n",
       "     C  S  V\n",
       "  C 24  0  1\n",
       "  S  0 25  0\n",
       "  V  0  0 25"
      ]
     },
     "metadata": {},
     "output_type": "display_data"
    }
   ],
   "source": [
    "table(iris.train[, 5], predict(Z.qda)$class)\n"
   ]
  },
  {
   "cell_type": "code",
   "execution_count": 16,
   "metadata": {
    "vscode": {
     "languageId": "r"
    }
   },
   "outputs": [
    {
     "data": {
      "text/plain": [
       "   \n",
       "     C  S  V\n",
       "  C 24  0  1\n",
       "  S  0 25  0\n",
       "  V  2  0 23"
      ]
     },
     "metadata": {},
     "output_type": "display_data"
    }
   ],
   "source": [
    "Y.qda <- predict(Z.qda, iris.test[, -5])\n",
    "table(iris.test[, 5], Y.qda$class)\n"
   ]
  },
  {
   "cell_type": "code",
   "execution_count": 18,
   "metadata": {
    "vscode": {
     "languageId": "r"
    }
   },
   "outputs": [],
   "source": [
    "library(class)\n"
   ]
  },
  {
   "cell_type": "code",
   "execution_count": 27,
   "metadata": {
    "vscode": {
     "languageId": "r"
    }
   },
   "outputs": [
    {
     "data": {
      "text/plain": [
       "        \n",
       "iris.knn  C  S  V\n",
       "       C 24  0  0\n",
       "       S  0 25  0\n",
       "       V  1  0 25"
      ]
     },
     "metadata": {},
     "output_type": "display_data"
    }
   ],
   "source": [
    "iris.knn = knn(iris.train[, -5], iris.test[, -5], iris.train[, 5], k = 5)\n",
    "table(iris.knn, iris.test[, 5])\n"
   ]
  },
  {
   "cell_type": "code",
   "execution_count": 38,
   "metadata": {
    "vscode": {
     "languageId": "r"
    }
   },
   "outputs": [
    {
     "name": "stderr",
     "output_type": "stream",
     "text": [
      " 依存対象 (dependency) ‘backports’ もインストールします \n",
      "\n",
      "\n"
     ]
    },
    {
     "name": "stdout",
     "output_type": "stream",
     "text": [
      "\n",
      "  利用できるバイナリー版がありますがソース版は後者です:\n",
      "      binary  source needs_compilation\n",
      "nlme 3.1-159 3.1-160              TRUE\n",
      "\n",
      "\n",
      "The downloaded binary packages are in\n",
      "\t/var/folders/4x/vf52k2q52wx0sqrm0t5hfr040000gn/T//RtmpZtE2ZX/downloaded_packages\n"
     ]
    },
    {
     "name": "stderr",
     "output_type": "stream",
     "text": [
      " ソースパッケージ ‘nlme’ をインストール中です \n",
      "\n",
      "\n",
      "Warning message in install.packages(update[instlib == l, \"Package\"], l, repos = repos, :\n",
      "“installation of package ‘nlme’ had non-zero exit status”\n"
     ]
    }
   ],
   "source": [
    "update.packages(ask=FALSE)"
   ]
  },
  {
   "cell_type": "code",
   "execution_count": 40,
   "metadata": {
    "vscode": {
     "languageId": "r"
    }
   },
   "outputs": [
    {
     "name": "stdout",
     "output_type": "stream",
     "text": [
      "\n",
      "The downloaded binary packages are in\n",
      "\t/var/folders/4x/vf52k2q52wx0sqrm0t5hfr040000gn/T//RtmpZtE2ZX/downloaded_packages\n",
      "\n",
      "The downloaded binary packages are in\n",
      "\t/var/folders/4x/vf52k2q52wx0sqrm0t5hfr040000gn/T//RtmpZtE2ZX/downloaded_packages\n"
     ]
    },
    {
     "ename": "ERROR",
     "evalue": "Error in value[[3L]](cond): Package ‘vctrs’ version 0.4.0 cannot be unloaded:\n Error in unloadNamespace(package) :  名前空間 ‘vctrs’ は ‘pillar’ によってインポートされているのでアンロード出来ません \n\n",
     "output_type": "error",
     "traceback": [
      "Error in value[[3L]](cond): Package ‘vctrs’ version 0.4.0 cannot be unloaded:\n Error in unloadNamespace(package) :  名前空間 ‘vctrs’ は ‘pillar’ によってインポートされているのでアンロード出来ません \n\nTraceback:\n",
      "1. library(\"vctrs\")",
      "2. tryCatch(unloadNamespace(package), error = function(e) {\n .     P <- if (!is.null(cc <- conditionCall(e))) \n .         paste(\"Error in\", deparse(cc)[1L], \": \")\n .     else \"Error : \"\n .     stop(gettextf(\"Package %s version %s cannot be unloaded:\\n %s\", \n .         sQuote(package), oldversion, paste0(P, conditionMessage(e), \n .             \"\\n\")), domain = NA)\n . })",
      "3. tryCatchList(expr, classes, parentenv, handlers)",
      "4. tryCatchOne(expr, names, parentenv, handlers[[1L]])",
      "5. value[[3L]](cond)",
      "6. stop(gettextf(\"Package %s version %s cannot be unloaded:\\n %s\", \n .     sQuote(package), oldversion, paste0(P, conditionMessage(e), \n .         \"\\n\")), domain = NA)"
     ]
    }
   ],
   "source": [
    "install.packages(\"klaR\")\n",
    "install.packages(\"mlbench\")\n",
    "library(\"vctrs\")\n",
    "library(\"klaR\")\n",
    "library(\"mlbench\")"
   ]
  },
  {
   "cell_type": "code",
   "execution_count": null,
   "metadata": {
    "vscode": {
     "languageId": "r"
    }
   },
   "outputs": [
    {
     "name": "stderr",
     "output_type": "stream",
     "text": [
      "Warning message in data(Grass):\n",
      "“data set ‘Grass’ not found”\n"
     ]
    }
   ],
   "source": [
    "data(Grass)"
   ]
  },
  {
   "cell_type": "code",
   "execution_count": null,
   "metadata": {
    "vscode": {
     "languageId": "r"
    }
   },
   "outputs": [
    {
     "ename": "ERROR",
     "evalue": "Error in eval(expr, envir, enclos):  オブジェクト 'Grass' がありません \n",
     "output_type": "error",
     "traceback": [
      "Error in eval(expr, envir, enclos):  オブジェクト 'Grass' がありません \nTraceback:\n"
     ]
    }
   ],
   "source": [
    "G = Grass[,c(1:5,10)]"
   ]
  },
  {
   "cell_type": "code",
   "execution_count": null,
   "metadata": {
    "vscode": {
     "languageId": "r"
    }
   },
   "outputs": [],
   "source": [
    "m1 = NaiveBayes(Type~.,data=G)"
   ]
  },
  {
   "cell_type": "code",
   "execution_count": null,
   "metadata": {
    "vscode": {
     "languageId": "r"
    }
   },
   "outputs": [],
   "source": []
  }
 ],
 "metadata": {
  "kernelspec": {
   "display_name": "R",
   "language": "R",
   "name": "ir"
  },
  "language_info": {
   "codemirror_mode": "r",
   "file_extension": ".r",
   "mimetype": "text/x-r-source",
   "name": "R",
   "pygments_lexer": "r",
   "version": "4.1.2"
  },
  "varInspector": {
   "cols": {
    "lenName": 16,
    "lenType": 16,
    "lenVar": 40
   },
   "kernels_config": {
    "python": {
     "delete_cmd_postfix": "",
     "delete_cmd_prefix": "del ",
     "library": "var_list.py",
     "varRefreshCmd": "print(var_dic_list())"
    },
    "r": {
     "delete_cmd_postfix": ") ",
     "delete_cmd_prefix": "rm(",
     "library": "var_list.r",
     "varRefreshCmd": "cat(var_dic_list()) "
    }
   },
   "types_to_exclude": [
    "module",
    "function",
    "builtin_function_or_method",
    "instance",
    "_Feature"
   ],
   "window_display": false
  }
 },
 "nbformat": 4,
 "nbformat_minor": 2
}
