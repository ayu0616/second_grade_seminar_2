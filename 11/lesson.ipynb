{
 "cells": [
  {
   "cell_type": "code",
   "execution_count": 1,
   "metadata": {
    "vscode": {
     "languageId": "r"
    }
   },
   "outputs": [],
   "source": [
    "library(survival)\n",
    "library(MASS)"
   ]
  },
  {
   "cell_type": "code",
   "execution_count": 2,
   "metadata": {
    "vscode": {
     "languageId": "r"
    }
   },
   "outputs": [
    {
     "data": {
      "text/html": [
       "<table class=\"dataframe\">\n",
       "<caption>A data.frame: 42 × 4</caption>\n",
       "<thead>\n",
       "\t<tr><th></th><th scope=col>pair</th><th scope=col>time</th><th scope=col>cens</th><th scope=col>treat</th></tr>\n",
       "\t<tr><th></th><th scope=col>&lt;int&gt;</th><th scope=col>&lt;int&gt;</th><th scope=col>&lt;int&gt;</th><th scope=col>&lt;fct&gt;</th></tr>\n",
       "</thead>\n",
       "<tbody>\n",
       "\t<tr><th scope=row>1</th><td> 1</td><td> 1</td><td>1</td><td>control</td></tr>\n",
       "\t<tr><th scope=row>2</th><td> 1</td><td>10</td><td>1</td><td>6-MP   </td></tr>\n",
       "\t<tr><th scope=row>3</th><td> 2</td><td>22</td><td>1</td><td>control</td></tr>\n",
       "\t<tr><th scope=row>4</th><td> 2</td><td> 7</td><td>1</td><td>6-MP   </td></tr>\n",
       "\t<tr><th scope=row>5</th><td> 3</td><td> 3</td><td>1</td><td>control</td></tr>\n",
       "\t<tr><th scope=row>6</th><td> 3</td><td>32</td><td>0</td><td>6-MP   </td></tr>\n",
       "\t<tr><th scope=row>7</th><td> 4</td><td>12</td><td>1</td><td>control</td></tr>\n",
       "\t<tr><th scope=row>8</th><td> 4</td><td>23</td><td>1</td><td>6-MP   </td></tr>\n",
       "\t<tr><th scope=row>9</th><td> 5</td><td> 8</td><td>1</td><td>control</td></tr>\n",
       "\t<tr><th scope=row>10</th><td> 5</td><td>22</td><td>1</td><td>6-MP   </td></tr>\n",
       "\t<tr><th scope=row>11</th><td> 6</td><td>17</td><td>1</td><td>control</td></tr>\n",
       "\t<tr><th scope=row>12</th><td> 6</td><td> 6</td><td>1</td><td>6-MP   </td></tr>\n",
       "\t<tr><th scope=row>13</th><td> 7</td><td> 2</td><td>1</td><td>control</td></tr>\n",
       "\t<tr><th scope=row>14</th><td> 7</td><td>16</td><td>1</td><td>6-MP   </td></tr>\n",
       "\t<tr><th scope=row>15</th><td> 8</td><td>11</td><td>1</td><td>control</td></tr>\n",
       "\t<tr><th scope=row>16</th><td> 8</td><td>34</td><td>0</td><td>6-MP   </td></tr>\n",
       "\t<tr><th scope=row>17</th><td> 9</td><td> 8</td><td>1</td><td>control</td></tr>\n",
       "\t<tr><th scope=row>18</th><td> 9</td><td>32</td><td>0</td><td>6-MP   </td></tr>\n",
       "\t<tr><th scope=row>19</th><td>10</td><td>12</td><td>1</td><td>control</td></tr>\n",
       "\t<tr><th scope=row>20</th><td>10</td><td>25</td><td>0</td><td>6-MP   </td></tr>\n",
       "\t<tr><th scope=row>21</th><td>11</td><td> 2</td><td>1</td><td>control</td></tr>\n",
       "\t<tr><th scope=row>22</th><td>11</td><td>11</td><td>0</td><td>6-MP   </td></tr>\n",
       "\t<tr><th scope=row>23</th><td>12</td><td> 5</td><td>1</td><td>control</td></tr>\n",
       "\t<tr><th scope=row>24</th><td>12</td><td>20</td><td>0</td><td>6-MP   </td></tr>\n",
       "\t<tr><th scope=row>25</th><td>13</td><td> 4</td><td>1</td><td>control</td></tr>\n",
       "\t<tr><th scope=row>26</th><td>13</td><td>19</td><td>0</td><td>6-MP   </td></tr>\n",
       "\t<tr><th scope=row>27</th><td>14</td><td>15</td><td>1</td><td>control</td></tr>\n",
       "\t<tr><th scope=row>28</th><td>14</td><td> 6</td><td>1</td><td>6-MP   </td></tr>\n",
       "\t<tr><th scope=row>29</th><td>15</td><td> 8</td><td>1</td><td>control</td></tr>\n",
       "\t<tr><th scope=row>30</th><td>15</td><td>17</td><td>0</td><td>6-MP   </td></tr>\n",
       "\t<tr><th scope=row>31</th><td>16</td><td>23</td><td>1</td><td>control</td></tr>\n",
       "\t<tr><th scope=row>32</th><td>16</td><td>35</td><td>0</td><td>6-MP   </td></tr>\n",
       "\t<tr><th scope=row>33</th><td>17</td><td> 5</td><td>1</td><td>control</td></tr>\n",
       "\t<tr><th scope=row>34</th><td>17</td><td> 6</td><td>1</td><td>6-MP   </td></tr>\n",
       "\t<tr><th scope=row>35</th><td>18</td><td>11</td><td>1</td><td>control</td></tr>\n",
       "\t<tr><th scope=row>36</th><td>18</td><td>13</td><td>1</td><td>6-MP   </td></tr>\n",
       "\t<tr><th scope=row>37</th><td>19</td><td> 4</td><td>1</td><td>control</td></tr>\n",
       "\t<tr><th scope=row>38</th><td>19</td><td> 9</td><td>0</td><td>6-MP   </td></tr>\n",
       "\t<tr><th scope=row>39</th><td>20</td><td> 1</td><td>1</td><td>control</td></tr>\n",
       "\t<tr><th scope=row>40</th><td>20</td><td> 6</td><td>0</td><td>6-MP   </td></tr>\n",
       "\t<tr><th scope=row>41</th><td>21</td><td> 8</td><td>1</td><td>control</td></tr>\n",
       "\t<tr><th scope=row>42</th><td>21</td><td>10</td><td>0</td><td>6-MP   </td></tr>\n",
       "</tbody>\n",
       "</table>\n"
      ],
      "text/latex": [
       "A data.frame: 42 × 4\n",
       "\\begin{tabular}{r|llll}\n",
       "  & pair & time & cens & treat\\\\\n",
       "  & <int> & <int> & <int> & <fct>\\\\\n",
       "\\hline\n",
       "\t1 &  1 &  1 & 1 & control\\\\\n",
       "\t2 &  1 & 10 & 1 & 6-MP   \\\\\n",
       "\t3 &  2 & 22 & 1 & control\\\\\n",
       "\t4 &  2 &  7 & 1 & 6-MP   \\\\\n",
       "\t5 &  3 &  3 & 1 & control\\\\\n",
       "\t6 &  3 & 32 & 0 & 6-MP   \\\\\n",
       "\t7 &  4 & 12 & 1 & control\\\\\n",
       "\t8 &  4 & 23 & 1 & 6-MP   \\\\\n",
       "\t9 &  5 &  8 & 1 & control\\\\\n",
       "\t10 &  5 & 22 & 1 & 6-MP   \\\\\n",
       "\t11 &  6 & 17 & 1 & control\\\\\n",
       "\t12 &  6 &  6 & 1 & 6-MP   \\\\\n",
       "\t13 &  7 &  2 & 1 & control\\\\\n",
       "\t14 &  7 & 16 & 1 & 6-MP   \\\\\n",
       "\t15 &  8 & 11 & 1 & control\\\\\n",
       "\t16 &  8 & 34 & 0 & 6-MP   \\\\\n",
       "\t17 &  9 &  8 & 1 & control\\\\\n",
       "\t18 &  9 & 32 & 0 & 6-MP   \\\\\n",
       "\t19 & 10 & 12 & 1 & control\\\\\n",
       "\t20 & 10 & 25 & 0 & 6-MP   \\\\\n",
       "\t21 & 11 &  2 & 1 & control\\\\\n",
       "\t22 & 11 & 11 & 0 & 6-MP   \\\\\n",
       "\t23 & 12 &  5 & 1 & control\\\\\n",
       "\t24 & 12 & 20 & 0 & 6-MP   \\\\\n",
       "\t25 & 13 &  4 & 1 & control\\\\\n",
       "\t26 & 13 & 19 & 0 & 6-MP   \\\\\n",
       "\t27 & 14 & 15 & 1 & control\\\\\n",
       "\t28 & 14 &  6 & 1 & 6-MP   \\\\\n",
       "\t29 & 15 &  8 & 1 & control\\\\\n",
       "\t30 & 15 & 17 & 0 & 6-MP   \\\\\n",
       "\t31 & 16 & 23 & 1 & control\\\\\n",
       "\t32 & 16 & 35 & 0 & 6-MP   \\\\\n",
       "\t33 & 17 &  5 & 1 & control\\\\\n",
       "\t34 & 17 &  6 & 1 & 6-MP   \\\\\n",
       "\t35 & 18 & 11 & 1 & control\\\\\n",
       "\t36 & 18 & 13 & 1 & 6-MP   \\\\\n",
       "\t37 & 19 &  4 & 1 & control\\\\\n",
       "\t38 & 19 &  9 & 0 & 6-MP   \\\\\n",
       "\t39 & 20 &  1 & 1 & control\\\\\n",
       "\t40 & 20 &  6 & 0 & 6-MP   \\\\\n",
       "\t41 & 21 &  8 & 1 & control\\\\\n",
       "\t42 & 21 & 10 & 0 & 6-MP   \\\\\n",
       "\\end{tabular}\n"
      ],
      "text/markdown": [
       "\n",
       "A data.frame: 42 × 4\n",
       "\n",
       "| <!--/--> | pair &lt;int&gt; | time &lt;int&gt; | cens &lt;int&gt; | treat &lt;fct&gt; |\n",
       "|---|---|---|---|---|\n",
       "| 1 |  1 |  1 | 1 | control |\n",
       "| 2 |  1 | 10 | 1 | 6-MP    |\n",
       "| 3 |  2 | 22 | 1 | control |\n",
       "| 4 |  2 |  7 | 1 | 6-MP    |\n",
       "| 5 |  3 |  3 | 1 | control |\n",
       "| 6 |  3 | 32 | 0 | 6-MP    |\n",
       "| 7 |  4 | 12 | 1 | control |\n",
       "| 8 |  4 | 23 | 1 | 6-MP    |\n",
       "| 9 |  5 |  8 | 1 | control |\n",
       "| 10 |  5 | 22 | 1 | 6-MP    |\n",
       "| 11 |  6 | 17 | 1 | control |\n",
       "| 12 |  6 |  6 | 1 | 6-MP    |\n",
       "| 13 |  7 |  2 | 1 | control |\n",
       "| 14 |  7 | 16 | 1 | 6-MP    |\n",
       "| 15 |  8 | 11 | 1 | control |\n",
       "| 16 |  8 | 34 | 0 | 6-MP    |\n",
       "| 17 |  9 |  8 | 1 | control |\n",
       "| 18 |  9 | 32 | 0 | 6-MP    |\n",
       "| 19 | 10 | 12 | 1 | control |\n",
       "| 20 | 10 | 25 | 0 | 6-MP    |\n",
       "| 21 | 11 |  2 | 1 | control |\n",
       "| 22 | 11 | 11 | 0 | 6-MP    |\n",
       "| 23 | 12 |  5 | 1 | control |\n",
       "| 24 | 12 | 20 | 0 | 6-MP    |\n",
       "| 25 | 13 |  4 | 1 | control |\n",
       "| 26 | 13 | 19 | 0 | 6-MP    |\n",
       "| 27 | 14 | 15 | 1 | control |\n",
       "| 28 | 14 |  6 | 1 | 6-MP    |\n",
       "| 29 | 15 |  8 | 1 | control |\n",
       "| 30 | 15 | 17 | 0 | 6-MP    |\n",
       "| 31 | 16 | 23 | 1 | control |\n",
       "| 32 | 16 | 35 | 0 | 6-MP    |\n",
       "| 33 | 17 |  5 | 1 | control |\n",
       "| 34 | 17 |  6 | 1 | 6-MP    |\n",
       "| 35 | 18 | 11 | 1 | control |\n",
       "| 36 | 18 | 13 | 1 | 6-MP    |\n",
       "| 37 | 19 |  4 | 1 | control |\n",
       "| 38 | 19 |  9 | 0 | 6-MP    |\n",
       "| 39 | 20 |  1 | 1 | control |\n",
       "| 40 | 20 |  6 | 0 | 6-MP    |\n",
       "| 41 | 21 |  8 | 1 | control |\n",
       "| 42 | 21 | 10 | 0 | 6-MP    |\n",
       "\n"
      ],
      "text/plain": [
       "   pair time cens treat  \n",
       "1   1    1   1    control\n",
       "2   1   10   1    6-MP   \n",
       "3   2   22   1    control\n",
       "4   2    7   1    6-MP   \n",
       "5   3    3   1    control\n",
       "6   3   32   0    6-MP   \n",
       "7   4   12   1    control\n",
       "8   4   23   1    6-MP   \n",
       "9   5    8   1    control\n",
       "10  5   22   1    6-MP   \n",
       "11  6   17   1    control\n",
       "12  6    6   1    6-MP   \n",
       "13  7    2   1    control\n",
       "14  7   16   1    6-MP   \n",
       "15  8   11   1    control\n",
       "16  8   34   0    6-MP   \n",
       "17  9    8   1    control\n",
       "18  9   32   0    6-MP   \n",
       "19 10   12   1    control\n",
       "20 10   25   0    6-MP   \n",
       "21 11    2   1    control\n",
       "22 11   11   0    6-MP   \n",
       "23 12    5   1    control\n",
       "24 12   20   0    6-MP   \n",
       "25 13    4   1    control\n",
       "26 13   19   0    6-MP   \n",
       "27 14   15   1    control\n",
       "28 14    6   1    6-MP   \n",
       "29 15    8   1    control\n",
       "30 15   17   0    6-MP   \n",
       "31 16   23   1    control\n",
       "32 16   35   0    6-MP   \n",
       "33 17    5   1    control\n",
       "34 17    6   1    6-MP   \n",
       "35 18   11   1    control\n",
       "36 18   13   1    6-MP   \n",
       "37 19    4   1    control\n",
       "38 19    9   0    6-MP   \n",
       "39 20    1   1    control\n",
       "40 20    6   0    6-MP   \n",
       "41 21    8   1    control\n",
       "42 21   10   0    6-MP   "
      ]
     },
     "metadata": {},
     "output_type": "display_data"
    }
   ],
   "source": [
    "gehan"
   ]
  },
  {
   "cell_type": "code",
   "execution_count": 23,
   "metadata": {
    "vscode": {
     "languageId": "r"
    }
   },
   "outputs": [
    {
     "data": {
      "text/plain": [
       " [1]  1  10  22   7   3  32+ 12  23   8  22  17   6   2  16  11  34+  8  32+ 12 \n",
       "[20] 25+  2  11+  5  20+  4  19+ 15   6   8  17+ 23  35+  5   6  11  13   4   9+\n",
       "[39]  1   6+  8  10+"
      ]
     },
     "metadata": {},
     "output_type": "display_data"
    }
   ],
   "source": [
    "gehan.surv = Surv(gehan$time, gehan$cens)\n",
    "gehan.surv\n"
   ]
  },
  {
   "cell_type": "code",
   "execution_count": 21,
   "metadata": {
    "vscode": {
     "languageId": "r"
    }
   },
   "outputs": [
    {
     "data": {
      "text/html": [
       "'Surv'"
      ],
      "text/latex": [
       "'Surv'"
      ],
      "text/markdown": [
       "'Surv'"
      ],
      "text/plain": [
       "[1] \"Surv\""
      ]
     },
     "metadata": {},
     "output_type": "display_data"
    }
   ],
   "source": [
    "class(gehan.surv)"
   ]
  },
  {
   "cell_type": "code",
   "execution_count": 26,
   "metadata": {
    "vscode": {
     "languageId": "r"
    }
   },
   "outputs": [
    {
     "data": {
      "text/plain": [
       "Call: survfit(formula = Surv(time, cens) ~ treat, data = gehan)\n",
       "\n",
       "               n events median 0.95LCL 0.95UCL\n",
       "treat=6-MP    21      9     23      16      NA\n",
       "treat=control 21     21      8       4      12"
      ]
     },
     "metadata": {},
     "output_type": "display_data"
    }
   ],
   "source": [
    "(ge.sf = survfit(Surv(time, cens)~treat, data=gehan))"
   ]
  },
  {
   "cell_type": "code",
   "execution_count": 27,
   "metadata": {
    "vscode": {
     "languageId": "r"
    }
   },
   "outputs": [
    {
     "data": {
      "text/plain": [
       "Call: survfit(formula = Surv(time, cens) ~ treat, data = gehan)\n",
       "\n",
       "                treat=6-MP \n",
       " time n.risk n.event survival std.err lower 95% CI upper 95% CI\n",
       "    6     21       3    0.857  0.0764        0.720        1.000\n",
       "    7     17       1    0.807  0.0869        0.653        0.996\n",
       "   10     15       1    0.753  0.0963        0.586        0.968\n",
       "   13     12       1    0.690  0.1068        0.510        0.935\n",
       "   16     11       1    0.627  0.1141        0.439        0.896\n",
       "   22      7       1    0.538  0.1282        0.337        0.858\n",
       "   23      6       1    0.448  0.1346        0.249        0.807\n",
       "\n",
       "                treat=control \n",
       " time n.risk n.event survival std.err lower 95% CI upper 95% CI\n",
       "    1     21       2   0.9048  0.0641      0.78754        1.000\n",
       "    2     19       2   0.8095  0.0857      0.65785        0.996\n",
       "    3     17       1   0.7619  0.0929      0.59988        0.968\n",
       "    4     16       2   0.6667  0.1029      0.49268        0.902\n",
       "    5     14       2   0.5714  0.1080      0.39455        0.828\n",
       "    8     12       4   0.3810  0.1060      0.22085        0.657\n",
       "   11      8       2   0.2857  0.0986      0.14529        0.562\n",
       "   12      6       2   0.1905  0.0857      0.07887        0.460\n",
       "   15      4       1   0.1429  0.0764      0.05011        0.407\n",
       "   17      3       1   0.0952  0.0641      0.02549        0.356\n",
       "   22      2       1   0.0476  0.0465      0.00703        0.322\n",
       "   23      1       1   0.0000     NaN           NA           NA\n"
      ]
     },
     "metadata": {},
     "output_type": "display_data"
    }
   ],
   "source": [
    "summary(ge.sf)"
   ]
  },
  {
   "cell_type": "code",
   "execution_count": 32,
   "metadata": {
    "vscode": {
     "languageId": "r"
    }
   },
   "outputs": [
    {
     "name": "stderr",
     "output_type": "stream",
     "text": [
      "Warning message in axis(side = side, at = at, labels = labels, ...):\n",
      "“ ポストスクリプトフォントのデータベースにフォントファミリ 'BIZ UDPGothic' が見付かりません ”\n",
      "Warning message in axis(side = side, at = at, labels = labels, ...):\n",
      "“ ポストスクリプトフォントのデータベースにフォントファミリ 'BIZ UDPGothic' が見付かりません ”\n",
      "Warning message in axis(side = side, at = at, labels = labels, ...):\n",
      "“ ポストスクリプトフォントのデータベースにフォントファミリ 'BIZ UDPGothic' が見付かりません ”\n",
      "Warning message in axis(side = side, at = at, labels = labels, ...):\n",
      "“ ポストスクリプトフォントのデータベースにフォントファミリ 'BIZ UDPGothic' が見付かりません ”\n",
      "Warning message in axis(side = side, at = at, labels = labels, ...):\n",
      "“ ポストスクリプトフォントのデータベースにフォントファミリ 'BIZ UDPGothic' が見付かりません ”\n",
      "Warning message in axis(side = side, at = at, labels = labels, ...):\n",
      "“ ポストスクリプトフォントのデータベースにフォントファミリ 'BIZ UDPGothic' が見付かりません ”\n",
      "Warning message in axis(side = side, at = at, labels = labels, ...):\n",
      "“ ポストスクリプトフォントのデータベースにフォントファミリ 'BIZ UDPGothic' が見付かりません ”\n",
      "Warning message in axis(side = side, at = at, labels = labels, ...):\n",
      "“ ポストスクリプトフォントのデータベースにフォントファミリ 'BIZ UDPGothic' が見付かりません ”\n",
      "Warning message in axis(side = side, at = at, labels = labels, ...):\n",
      "“ ポストスクリプトフォントのデータベースにフォントファミリ 'BIZ UDPGothic' が見付かりません ”\n",
      "Warning message in axis(side = side, at = at, labels = labels, ...):\n",
      "“ ポストスクリプトフォントのデータベースにフォントファミリ 'BIZ UDPGothic' が見付かりません ”\n",
      "Warning message in axis(side = side, at = at, labels = labels, ...):\n",
      "“ ポストスクリプトフォントのデータベースにフォントファミリ 'BIZ UDPGothic' が見付かりません ”\n",
      "Warning message in axis(side = side, at = at, labels = labels, ...):\n",
      "“ ポストスクリプトフォントのデータベースにフォントファミリ 'BIZ UDPGothic' が見付かりません ”\n",
      "Warning message in axis(side = side, at = at, labels = labels, ...):\n",
      "“ ポストスクリプトフォントのデータベースにフォントファミリ 'BIZ UDPGothic' が見付かりません ”\n",
      "Warning message in axis(side = side, at = at, labels = labels, ...):\n",
      "“ ポストスクリプトフォントのデータベースにフォントファミリ 'BIZ UDPGothic' が見付かりません ”\n",
      "Warning message in axis(side = side, at = at, labels = labels, ...):\n",
      "“ ポストスクリプトフォントのデータベースにフォントファミリ 'BIZ UDPGothic' が見付かりません ”\n",
      "Warning message in axis(side = side, at = at, labels = labels, ...):\n",
      "“ ポストスクリプトフォントのデータベースにフォントファミリ 'BIZ UDPGothic' が見付かりません ”\n",
      "Warning message in axis(side = side, at = at, labels = labels, ...):\n",
      "“ ポストスクリプトフォントのデータベースにフォントファミリ 'BIZ UDPGothic' が見付かりません ”\n",
      "Warning message in axis(side = side, at = at, labels = labels, ...):\n",
      "“ ポストスクリプトフォントのデータベースにフォントファミリ 'BIZ UDPGothic' が見付かりません ”\n",
      "Warning message in axis(side = side, at = at, labels = labels, ...):\n",
      "“ ポストスクリプトフォントのデータベースにフォントファミリ 'BIZ UDPGothic' が見付かりません ”\n",
      "Warning message in axis(side = side, at = at, labels = labels, ...):\n",
      "“ ポストスクリプトフォントのデータベースにフォントファミリ 'BIZ UDPGothic' が見付かりません ”\n",
      "Warning message in axis(side = side, at = at, labels = labels, ...):\n",
      "“ ポストスクリプトフォントのデータベースにフォントファミリ 'BIZ UDPGothic' が見付かりません ”\n",
      "Warning message in axis(side = side, at = at, labels = labels, ...):\n",
      "“ ポストスクリプトフォントのデータベースにフォントファミリ 'BIZ UDPGothic' が見付かりません ”\n",
      "Warning message in axis(side = side, at = at, labels = labels, ...):\n",
      "“ ポストスクリプトフォントのデータベースにフォントファミリ 'BIZ UDPGothic' が見付かりません ”\n",
      "Warning message in axis(side = side, at = at, labels = labels, ...):\n",
      "“ ポストスクリプトフォントのデータベースにフォントファミリ 'BIZ UDPGothic' が見付かりません ”\n",
      "Warning message in axis(side = side, at = at, labels = labels, ...):\n",
      "“ ポストスクリプトフォントのデータベースにフォントファミリ 'BIZ UDPGothic' が見付かりません ”\n",
      "Warning message in axis(side = side, at = at, labels = labels, ...):\n",
      "“ ポストスクリプトフォントのデータベースにフォントファミリ 'BIZ UDPGothic' が見付かりません ”\n",
      "Warning message in axis(side = side, at = at, labels = labels, ...):\n",
      "“ ポストスクリプトフォントのデータベースにフォントファミリ 'BIZ UDPGothic' が見付かりません ”\n",
      "Warning message in axis(side = side, at = at, labels = labels, ...):\n",
      "“ ポストスクリプトフォントのデータベースにフォントファミリ 'BIZ UDPGothic' が見付かりません ”\n",
      "Warning message in axis(side = side, at = at, labels = labels, ...):\n",
      "“ ポストスクリプトフォントのデータベースにフォントファミリ 'BIZ UDPGothic' が見付かりません ”\n",
      "Warning message in axis(side = side, at = at, labels = labels, ...):\n",
      "“ ポストスクリプトフォントのデータベースにフォントファミリ 'BIZ UDPGothic' が見付かりません ”\n",
      "Warning message in axis(side = side, at = at, labels = labels, ...):\n",
      "“ ポストスクリプトフォントのデータベースにフォントファミリ 'BIZ UDPGothic' が見付かりません ”\n",
      "Warning message in strwidth(legend, units = \"user\", cex = cex, font = text.font):\n",
      "“ ポストスクリプトフォントのデータベースにフォントファミリ 'BIZ UDPGothic' が見付かりません ”\n",
      "Warning message in strwidth(legend, units = \"user\", cex = cex, font = text.font):\n",
      "“ ポストスクリプトフォントのデータベースにフォントファミリ 'BIZ UDPGothic' が見付かりません ”\n",
      "Warning message in text.default(x, y, ...):\n",
      "“ ポストスクリプトフォントのデータベースにフォントファミリ 'BIZ UDPGothic' が見付かりません ”\n",
      "Warning message in text.default(x, y, ...):\n",
      "“ ポストスクリプトフォントのデータベースにフォントファミリ 'BIZ UDPGothic' が見付かりません ”\n"
     ]
    },
    {
     "data": {
      "image/png": "[encoded data removed]",
      "text/plain": [
       "plot without title"
      ]
     },
     "metadata": {
      "image/png": {
       "height": 420,
       "width": 420
      }
     },
     "output_type": "display_data"
    }
   ],
   "source": [
    "par(family = \"BIZ UDPGothic\")\n",
    "a <- c(1:2)\n",
    "plot(ge.sf, col = a, lty = a)\n",
    "legend(25, 0.95, c(\"処置群\", \"対照群\"), col = a, lty = a)\n"
   ]
  },
  {
   "cell_type": "code",
   "execution_count": 36,
   "metadata": {
    "vscode": {
     "languageId": "r"
    }
   },
   "outputs": [],
   "source": [
    "ge2 = subset(gehan, treat=\"6-MP\")"
   ]
  },
  {
   "cell_type": "code",
   "execution_count": 39,
   "metadata": {
    "vscode": {
     "languageId": "r"
    }
   },
   "outputs": [
    {
     "data": {
      "text/plain": [
       "Call: survfit(formula = Surv(time, cens) ~ treat, data = ge2, conf.int = 0.9)\n",
       "\n",
       "               n events median 0.9LCL 0.9UCL\n",
       "treat=6-MP    21      9     23     16     NA\n",
       "treat=control 21     21      8      5     12"
      ]
     },
     "metadata": {},
     "output_type": "display_data"
    }
   ],
   "source": [
    "(ge2.sf = survfit(Surv(time, cens)~treat, data=ge2, conf.int=.9))"
   ]
  },
  {
   "cell_type": "code",
   "execution_count": 45,
   "metadata": {
    "vscode": {
     "languageId": "r"
    }
   },
   "outputs": [
    {
     "name": "stderr",
     "output_type": "stream",
     "text": [
      "Warning message in axis(side = side, at = at, labels = labels, ...):\n",
      "“ ポストスクリプトフォントのデータベースにフォントファミリ 'BIZ UDPGothic' が見付かりません ”\n",
      "Warning message in axis(side = side, at = at, labels = labels, ...):\n",
      "“ ポストスクリプトフォントのデータベースにフォントファミリ 'BIZ UDPGothic' が見付かりません ”\n",
      "Warning message in axis(side = side, at = at, labels = labels, ...):\n",
      "“ ポストスクリプトフォントのデータベースにフォントファミリ 'BIZ UDPGothic' が見付かりません ”\n",
      "Warning message in axis(side = side, at = at, labels = labels, ...):\n",
      "“ ポストスクリプトフォントのデータベースにフォントファミリ 'BIZ UDPGothic' が見付かりません ”\n",
      "Warning message in axis(side = side, at = at, labels = labels, ...):\n",
      "“ ポストスクリプトフォントのデータベースにフォントファミリ 'BIZ UDPGothic' が見付かりません ”\n",
      "Warning message in axis(side = side, at = at, labels = labels, ...):\n",
      "“ ポストスクリプトフォントのデータベースにフォントファミリ 'BIZ UDPGothic' が見付かりません ”\n",
      "Warning message in axis(side = side, at = at, labels = labels, ...):\n",
      "“ ポストスクリプトフォントのデータベースにフォントファミリ 'BIZ UDPGothic' が見付かりません ”\n",
      "Warning message in axis(side = side, at = at, labels = labels, ...):\n",
      "“ ポストスクリプトフォントのデータベースにフォントファミリ 'BIZ UDPGothic' が見付かりません ”\n",
      "Warning message in axis(side = side, at = at, labels = labels, ...):\n",
      "“ ポストスクリプトフォントのデータベースにフォントファミリ 'BIZ UDPGothic' が見付かりません ”\n",
      "Warning message in axis(side = side, at = at, labels = labels, ...):\n",
      "“ ポストスクリプトフォントのデータベースにフォントファミリ 'BIZ UDPGothic' が見付かりません ”\n",
      "Warning message in axis(side = side, at = at, labels = labels, ...):\n",
      "“ ポストスクリプトフォントのデータベースにフォントファミリ 'BIZ UDPGothic' が見付かりません ”\n",
      "Warning message in axis(side = side, at = at, labels = labels, ...):\n",
      "“ ポストスクリプトフォントのデータベースにフォントファミリ 'BIZ UDPGothic' が見付かりません ”\n",
      "Warning message in axis(side = side, at = at, labels = labels, ...):\n",
      "“ ポストスクリプトフォントのデータベースにフォントファミリ 'BIZ UDPGothic' が見付かりません ”\n",
      "Warning message in axis(side = side, at = at, labels = labels, ...):\n",
      "“ ポストスクリプトフォントのデータベースにフォントファミリ 'BIZ UDPGothic' が見付かりません ”\n",
      "Warning message in axis(side = side, at = at, labels = labels, ...):\n",
      "“ ポストスクリプトフォントのデータベースにフォントファミリ 'BIZ UDPGothic' が見付かりません ”\n",
      "Warning message in axis(side = side, at = at, labels = labels, ...):\n",
      "“ ポストスクリプトフォントのデータベースにフォントファミリ 'BIZ UDPGothic' が見付かりません ”\n",
      "Warning message in axis(side = side, at = at, labels = labels, ...):\n",
      "“ ポストスクリプトフォントのデータベースにフォントファミリ 'BIZ UDPGothic' が見付かりません ”\n",
      "Warning message in axis(side = side, at = at, labels = labels, ...):\n",
      "“ ポストスクリプトフォントのデータベースにフォントファミリ 'BIZ UDPGothic' が見付かりません ”\n",
      "Warning message in axis(side = side, at = at, labels = labels, ...):\n",
      "“ ポストスクリプトフォントのデータベースにフォントファミリ 'BIZ UDPGothic' が見付かりません ”\n",
      "Warning message in axis(side = side, at = at, labels = labels, ...):\n",
      "“ ポストスクリプトフォントのデータベースにフォントファミリ 'BIZ UDPGothic' が見付かりません ”\n",
      "Warning message in axis(side = side, at = at, labels = labels, ...):\n",
      "“ ポストスクリプトフォントのデータベースにフォントファミリ 'BIZ UDPGothic' が見付かりません ”\n",
      "Warning message in axis(side = side, at = at, labels = labels, ...):\n",
      "“ ポストスクリプトフォントのデータベースにフォントファミリ 'BIZ UDPGothic' が見付かりません ”\n",
      "Warning message in axis(side = side, at = at, labels = labels, ...):\n",
      "“ ポストスクリプトフォントのデータベースにフォントファミリ 'BIZ UDPGothic' が見付かりません ”\n",
      "Warning message in axis(side = side, at = at, labels = labels, ...):\n",
      "“ ポストスクリプトフォントのデータベースにフォントファミリ 'BIZ UDPGothic' が見付かりません ”\n",
      "Warning message in axis(side = side, at = at, labels = labels, ...):\n",
      "“ ポストスクリプトフォントのデータベースにフォントファミリ 'BIZ UDPGothic' が見付かりません ”\n",
      "Warning message in axis(side = side, at = at, labels = labels, ...):\n",
      "“ ポストスクリプトフォントのデータベースにフォントファミリ 'BIZ UDPGothic' が見付かりません ”\n",
      "Warning message in axis(side = side, at = at, labels = labels, ...):\n",
      "“ ポストスクリプトフォントのデータベースにフォントファミリ 'BIZ UDPGothic' が見付かりません ”\n",
      "Warning message in axis(side = side, at = at, labels = labels, ...):\n",
      "“ ポストスクリプトフォントのデータベースにフォントファミリ 'BIZ UDPGothic' が見付かりません ”\n",
      "Warning message in axis(side = side, at = at, labels = labels, ...):\n",
      "“ ポストスクリプトフォントのデータベースにフォントファミリ 'BIZ UDPGothic' が見付かりません ”\n",
      "Warning message in axis(side = side, at = at, labels = labels, ...):\n",
      "“ ポストスクリプトフォントのデータベースにフォントファミリ 'BIZ UDPGothic' が見付かりません ”\n",
      "Warning message in axis(side = side, at = at, labels = labels, ...):\n",
      "“ ポストスクリプトフォントのデータベースにフォントファミリ 'BIZ UDPGothic' が見付かりません ”\n",
      "Warning message in strwidth(legend, units = \"user\", cex = cex, font = text.font):\n",
      "“ ポストスクリプトフォントのデータベースにフォントファミリ 'BIZ UDPGothic' が見付かりません ”\n",
      "Warning message in strwidth(legend, units = \"user\", cex = cex, font = text.font):\n",
      "“ ポストスクリプトフォントのデータベースにフォントファミリ 'BIZ UDPGothic' が見付かりません ”\n",
      "Warning message in text.default(x, y, ...):\n",
      "“ ポストスクリプトフォントのデータベースにフォントファミリ 'BIZ UDPGothic' が見付かりません ”\n",
      "Warning message in text.default(x, y, ...):\n",
      "“ ポストスクリプトフォントのデータベースにフォントファミリ 'BIZ UDPGothic' が見付かりません ”\n"
     ]
    },
    {
     "data": {
      "image/png": "[encoded data removed]",
      "text/plain": [
       "plot without title"
      ]
     },
     "metadata": {
      "image/png": {
       "height": 420,
       "width": 420
      }
     },
     "output_type": "display_data"
    }
   ],
   "source": [
    "par(family = \"BIZ UDPGothic\")\n",
    "plot(ge2.sf, mark.t = F, col = a, lty = a)\n",
    "legend(25, 0.95, col=a,lty=a, legend = c(\"生存曲線\",\"90％信頼区間\"))"
   ]
  },
  {
   "cell_type": "code",
   "execution_count": 47,
   "metadata": {
    "vscode": {
     "languageId": "r"
    }
   },
   "outputs": [
    {
     "data": {
      "text/plain": [
       "Call:\n",
       "survdiff(formula = Surv(time) ~ treat, data = gehan)\n",
       "\n",
       "               N Observed Expected (O-E)^2/E (O-E)^2/V\n",
       "treat=6-MP    21       21     29.2      2.31      8.97\n",
       "treat=control 21       21     12.8      5.27      8.97\n",
       "\n",
       " Chisq= 9  on 1 degrees of freedom, p= 0.003 "
      ]
     },
     "metadata": {},
     "output_type": "display_data"
    }
   ],
   "source": [
    "survdiff(Surv(time)~treat, data = gehan)"
   ]
  },
  {
   "cell_type": "code",
   "execution_count": null,
   "metadata": {
    "vscode": {
     "languageId": "r"
    }
   },
   "outputs": [],
   "source": []
  },
  {
   "cell_type": "code",
   "execution_count": 48,
   "metadata": {
    "vscode": {
     "languageId": "r"
    }
   },
   "outputs": [
    {
     "name": "stderr",
     "output_type": "stream",
     "text": [
      "Warning message in data(kidney):\n",
      "“data set ‘kidney’ not found”\n"
     ]
    }
   ],
   "source": [
    "data(kidney)"
   ]
  },
  {
   "cell_type": "code",
   "execution_count": 49,
   "metadata": {
    "vscode": {
     "languageId": "r"
    }
   },
   "outputs": [
    {
     "data": {
      "text/html": [
       "<table class=\"dataframe\">\n",
       "<caption>A data.frame: 76 × 7</caption>\n",
       "<thead>\n",
       "\t<tr><th></th><th scope=col>id</th><th scope=col>time</th><th scope=col>status</th><th scope=col>age</th><th scope=col>sex</th><th scope=col>disease</th><th scope=col>frail</th></tr>\n",
       "\t<tr><th></th><th scope=col>&lt;dbl&gt;</th><th scope=col>&lt;dbl&gt;</th><th scope=col>&lt;dbl&gt;</th><th scope=col>&lt;dbl&gt;</th><th scope=col>&lt;dbl&gt;</th><th scope=col>&lt;fct&gt;</th><th scope=col>&lt;dbl&gt;</th></tr>\n",
       "</thead>\n",
       "<tbody>\n",
       "\t<tr><th scope=row>1</th><td> 1</td><td>  8</td><td>1</td><td>28</td><td>1</td><td>Other</td><td>2.3</td></tr>\n",
       "\t<tr><th scope=row>2</th><td> 1</td><td> 16</td><td>1</td><td>28</td><td>1</td><td>Other</td><td>2.3</td></tr>\n",
       "\t<tr><th scope=row>3</th><td> 2</td><td> 23</td><td>1</td><td>48</td><td>2</td><td>GN   </td><td>1.9</td></tr>\n",
       "\t<tr><th scope=row>4</th><td> 2</td><td> 13</td><td>0</td><td>48</td><td>2</td><td>GN   </td><td>1.9</td></tr>\n",
       "\t<tr><th scope=row>5</th><td> 3</td><td> 22</td><td>1</td><td>32</td><td>1</td><td>Other</td><td>1.2</td></tr>\n",
       "\t<tr><th scope=row>6</th><td> 3</td><td> 28</td><td>1</td><td>32</td><td>1</td><td>Other</td><td>1.2</td></tr>\n",
       "\t<tr><th scope=row>7</th><td> 4</td><td>447</td><td>1</td><td>31</td><td>2</td><td>Other</td><td>0.5</td></tr>\n",
       "\t<tr><th scope=row>8</th><td> 4</td><td>318</td><td>1</td><td>32</td><td>2</td><td>Other</td><td>0.5</td></tr>\n",
       "\t<tr><th scope=row>9</th><td> 5</td><td> 30</td><td>1</td><td>10</td><td>1</td><td>Other</td><td>1.5</td></tr>\n",
       "\t<tr><th scope=row>10</th><td> 5</td><td> 12</td><td>1</td><td>10</td><td>1</td><td>Other</td><td>1.5</td></tr>\n",
       "\t<tr><th scope=row>11</th><td> 6</td><td> 24</td><td>1</td><td>16</td><td>2</td><td>Other</td><td>1.1</td></tr>\n",
       "\t<tr><th scope=row>12</th><td> 6</td><td>245</td><td>1</td><td>17</td><td>2</td><td>Other</td><td>1.1</td></tr>\n",
       "\t<tr><th scope=row>13</th><td> 7</td><td>  7</td><td>1</td><td>51</td><td>1</td><td>GN   </td><td>3.0</td></tr>\n",
       "\t<tr><th scope=row>14</th><td> 7</td><td>  9</td><td>1</td><td>51</td><td>1</td><td>GN   </td><td>3.0</td></tr>\n",
       "\t<tr><th scope=row>15</th><td> 8</td><td>511</td><td>1</td><td>55</td><td>2</td><td>GN   </td><td>0.5</td></tr>\n",
       "\t<tr><th scope=row>16</th><td> 8</td><td> 30</td><td>1</td><td>56</td><td>2</td><td>GN   </td><td>0.5</td></tr>\n",
       "\t<tr><th scope=row>17</th><td> 9</td><td> 53</td><td>1</td><td>69</td><td>2</td><td>AN   </td><td>0.7</td></tr>\n",
       "\t<tr><th scope=row>18</th><td> 9</td><td>196</td><td>1</td><td>69</td><td>2</td><td>AN   </td><td>0.7</td></tr>\n",
       "\t<tr><th scope=row>19</th><td>10</td><td> 15</td><td>1</td><td>51</td><td>1</td><td>GN   </td><td>0.4</td></tr>\n",
       "\t<tr><th scope=row>20</th><td>10</td><td>154</td><td>1</td><td>52</td><td>1</td><td>GN   </td><td>0.4</td></tr>\n",
       "\t<tr><th scope=row>21</th><td>11</td><td>  7</td><td>1</td><td>44</td><td>2</td><td>AN   </td><td>0.6</td></tr>\n",
       "\t<tr><th scope=row>22</th><td>11</td><td>333</td><td>1</td><td>44</td><td>2</td><td>AN   </td><td>0.6</td></tr>\n",
       "\t<tr><th scope=row>23</th><td>12</td><td>141</td><td>1</td><td>34</td><td>2</td><td>Other</td><td>1.2</td></tr>\n",
       "\t<tr><th scope=row>24</th><td>12</td><td>  8</td><td>0</td><td>34</td><td>2</td><td>Other</td><td>1.2</td></tr>\n",
       "\t<tr><th scope=row>25</th><td>13</td><td> 96</td><td>1</td><td>35</td><td>2</td><td>AN   </td><td>1.4</td></tr>\n",
       "\t<tr><th scope=row>26</th><td>13</td><td> 38</td><td>1</td><td>35</td><td>2</td><td>AN   </td><td>1.4</td></tr>\n",
       "\t<tr><th scope=row>27</th><td>14</td><td>149</td><td>0</td><td>42</td><td>2</td><td>AN   </td><td>0.4</td></tr>\n",
       "\t<tr><th scope=row>28</th><td>14</td><td> 70</td><td>0</td><td>42</td><td>2</td><td>AN   </td><td>0.4</td></tr>\n",
       "\t<tr><th scope=row>29</th><td>15</td><td>536</td><td>1</td><td>17</td><td>2</td><td>Other</td><td>0.4</td></tr>\n",
       "\t<tr><th scope=row>30</th><td>15</td><td> 25</td><td>0</td><td>17</td><td>2</td><td>Other</td><td>0.4</td></tr>\n",
       "\t<tr><th scope=row>⋮</th><td>⋮</td><td>⋮</td><td>⋮</td><td>⋮</td><td>⋮</td><td>⋮</td><td>⋮</td></tr>\n",
       "\t<tr><th scope=row>47</th><td>24</td><td> 39</td><td>1</td><td>42</td><td>2</td><td>AN   </td><td>1.0</td></tr>\n",
       "\t<tr><th scope=row>48</th><td>24</td><td> 46</td><td>0</td><td>43</td><td>2</td><td>AN   </td><td>1.0</td></tr>\n",
       "\t<tr><th scope=row>49</th><td>25</td><td> 12</td><td>1</td><td>43</td><td>1</td><td>AN   </td><td>0.7</td></tr>\n",
       "\t<tr><th scope=row>50</th><td>25</td><td> 40</td><td>1</td><td>43</td><td>1</td><td>AN   </td><td>0.7</td></tr>\n",
       "\t<tr><th scope=row>51</th><td>26</td><td>113</td><td>0</td><td>57</td><td>2</td><td>AN   </td><td>0.5</td></tr>\n",
       "\t<tr><th scope=row>52</th><td>26</td><td>201</td><td>1</td><td>58</td><td>2</td><td>AN   </td><td>0.5</td></tr>\n",
       "\t<tr><th scope=row>53</th><td>27</td><td>132</td><td>1</td><td>10</td><td>2</td><td>GN   </td><td>1.1</td></tr>\n",
       "\t<tr><th scope=row>54</th><td>27</td><td>156</td><td>1</td><td>10</td><td>2</td><td>GN   </td><td>1.1</td></tr>\n",
       "\t<tr><th scope=row>55</th><td>28</td><td> 34</td><td>1</td><td>52</td><td>2</td><td>AN   </td><td>1.8</td></tr>\n",
       "\t<tr><th scope=row>56</th><td>28</td><td> 30</td><td>1</td><td>52</td><td>2</td><td>AN   </td><td>1.8</td></tr>\n",
       "\t<tr><th scope=row>57</th><td>29</td><td>  2</td><td>1</td><td>53</td><td>1</td><td>GN   </td><td>1.5</td></tr>\n",
       "\t<tr><th scope=row>58</th><td>29</td><td> 25</td><td>1</td><td>53</td><td>1</td><td>GN   </td><td>1.5</td></tr>\n",
       "\t<tr><th scope=row>59</th><td>30</td><td>130</td><td>1</td><td>54</td><td>2</td><td>GN   </td><td>1.5</td></tr>\n",
       "\t<tr><th scope=row>60</th><td>30</td><td> 26</td><td>1</td><td>54</td><td>2</td><td>GN   </td><td>1.5</td></tr>\n",
       "\t<tr><th scope=row>61</th><td>31</td><td> 27</td><td>1</td><td>56</td><td>2</td><td>AN   </td><td>1.7</td></tr>\n",
       "\t<tr><th scope=row>62</th><td>31</td><td> 58</td><td>1</td><td>56</td><td>2</td><td>AN   </td><td>1.7</td></tr>\n",
       "\t<tr><th scope=row>63</th><td>32</td><td>  5</td><td>0</td><td>50</td><td>2</td><td>AN   </td><td>1.3</td></tr>\n",
       "\t<tr><th scope=row>64</th><td>32</td><td> 43</td><td>1</td><td>51</td><td>2</td><td>AN   </td><td>1.3</td></tr>\n",
       "\t<tr><th scope=row>65</th><td>33</td><td>152</td><td>1</td><td>57</td><td>2</td><td>PKD  </td><td>2.9</td></tr>\n",
       "\t<tr><th scope=row>66</th><td>33</td><td> 30</td><td>1</td><td>57</td><td>2</td><td>PKD  </td><td>2.9</td></tr>\n",
       "\t<tr><th scope=row>67</th><td>34</td><td>190</td><td>1</td><td>44</td><td>2</td><td>GN   </td><td>0.7</td></tr>\n",
       "\t<tr><th scope=row>68</th><td>34</td><td>  5</td><td>0</td><td>45</td><td>2</td><td>GN   </td><td>0.7</td></tr>\n",
       "\t<tr><th scope=row>69</th><td>35</td><td>119</td><td>1</td><td>22</td><td>2</td><td>Other</td><td>2.2</td></tr>\n",
       "\t<tr><th scope=row>70</th><td>35</td><td>  8</td><td>1</td><td>22</td><td>2</td><td>Other</td><td>2.2</td></tr>\n",
       "\t<tr><th scope=row>71</th><td>36</td><td> 54</td><td>0</td><td>42</td><td>2</td><td>Other</td><td>0.7</td></tr>\n",
       "\t<tr><th scope=row>72</th><td>36</td><td> 16</td><td>0</td><td>42</td><td>2</td><td>Other</td><td>0.7</td></tr>\n",
       "\t<tr><th scope=row>73</th><td>37</td><td>  6</td><td>0</td><td>52</td><td>2</td><td>PKD  </td><td>2.1</td></tr>\n",
       "\t<tr><th scope=row>74</th><td>37</td><td> 78</td><td>1</td><td>52</td><td>2</td><td>PKD  </td><td>2.1</td></tr>\n",
       "\t<tr><th scope=row>75</th><td>38</td><td> 63</td><td>1</td><td>60</td><td>1</td><td>PKD  </td><td>1.2</td></tr>\n",
       "\t<tr><th scope=row>76</th><td>38</td><td>  8</td><td>0</td><td>60</td><td>1</td><td>PKD  </td><td>1.2</td></tr>\n",
       "</tbody>\n",
       "</table>\n"
      ],
      "text/latex": [
       "A data.frame: 76 × 7\n",
       "\\begin{tabular}{r|lllllll}\n",
       "  & id & time & status & age & sex & disease & frail\\\\\n",
       "  & <dbl> & <dbl> & <dbl> & <dbl> & <dbl> & <fct> & <dbl>\\\\\n",
       "\\hline\n",
       "\t1 &  1 &   8 & 1 & 28 & 1 & Other & 2.3\\\\\n",
       "\t2 &  1 &  16 & 1 & 28 & 1 & Other & 2.3\\\\\n",
       "\t3 &  2 &  23 & 1 & 48 & 2 & GN    & 1.9\\\\\n",
       "\t4 &  2 &  13 & 0 & 48 & 2 & GN    & 1.9\\\\\n",
       "\t5 &  3 &  22 & 1 & 32 & 1 & Other & 1.2\\\\\n",
       "\t6 &  3 &  28 & 1 & 32 & 1 & Other & 1.2\\\\\n",
       "\t7 &  4 & 447 & 1 & 31 & 2 & Other & 0.5\\\\\n",
       "\t8 &  4 & 318 & 1 & 32 & 2 & Other & 0.5\\\\\n",
       "\t9 &  5 &  30 & 1 & 10 & 1 & Other & 1.5\\\\\n",
       "\t10 &  5 &  12 & 1 & 10 & 1 & Other & 1.5\\\\\n",
       "\t11 &  6 &  24 & 1 & 16 & 2 & Other & 1.1\\\\\n",
       "\t12 &  6 & 245 & 1 & 17 & 2 & Other & 1.1\\\\\n",
       "\t13 &  7 &   7 & 1 & 51 & 1 & GN    & 3.0\\\\\n",
       "\t14 &  7 &   9 & 1 & 51 & 1 & GN    & 3.0\\\\\n",
       "\t15 &  8 & 511 & 1 & 55 & 2 & GN    & 0.5\\\\\n",
       "\t16 &  8 &  30 & 1 & 56 & 2 & GN    & 0.5\\\\\n",
       "\t17 &  9 &  53 & 1 & 69 & 2 & AN    & 0.7\\\\\n",
       "\t18 &  9 & 196 & 1 & 69 & 2 & AN    & 0.7\\\\\n",
       "\t19 & 10 &  15 & 1 & 51 & 1 & GN    & 0.4\\\\\n",
       "\t20 & 10 & 154 & 1 & 52 & 1 & GN    & 0.4\\\\\n",
       "\t21 & 11 &   7 & 1 & 44 & 2 & AN    & 0.6\\\\\n",
       "\t22 & 11 & 333 & 1 & 44 & 2 & AN    & 0.6\\\\\n",
       "\t23 & 12 & 141 & 1 & 34 & 2 & Other & 1.2\\\\\n",
       "\t24 & 12 &   8 & 0 & 34 & 2 & Other & 1.2\\\\\n",
       "\t25 & 13 &  96 & 1 & 35 & 2 & AN    & 1.4\\\\\n",
       "\t26 & 13 &  38 & 1 & 35 & 2 & AN    & 1.4\\\\\n",
       "\t27 & 14 & 149 & 0 & 42 & 2 & AN    & 0.4\\\\\n",
       "\t28 & 14 &  70 & 0 & 42 & 2 & AN    & 0.4\\\\\n",
       "\t29 & 15 & 536 & 1 & 17 & 2 & Other & 0.4\\\\\n",
       "\t30 & 15 &  25 & 0 & 17 & 2 & Other & 0.4\\\\\n",
       "\t⋮ & ⋮ & ⋮ & ⋮ & ⋮ & ⋮ & ⋮ & ⋮\\\\\n",
       "\t47 & 24 &  39 & 1 & 42 & 2 & AN    & 1.0\\\\\n",
       "\t48 & 24 &  46 & 0 & 43 & 2 & AN    & 1.0\\\\\n",
       "\t49 & 25 &  12 & 1 & 43 & 1 & AN    & 0.7\\\\\n",
       "\t50 & 25 &  40 & 1 & 43 & 1 & AN    & 0.7\\\\\n",
       "\t51 & 26 & 113 & 0 & 57 & 2 & AN    & 0.5\\\\\n",
       "\t52 & 26 & 201 & 1 & 58 & 2 & AN    & 0.5\\\\\n",
       "\t53 & 27 & 132 & 1 & 10 & 2 & GN    & 1.1\\\\\n",
       "\t54 & 27 & 156 & 1 & 10 & 2 & GN    & 1.1\\\\\n",
       "\t55 & 28 &  34 & 1 & 52 & 2 & AN    & 1.8\\\\\n",
       "\t56 & 28 &  30 & 1 & 52 & 2 & AN    & 1.8\\\\\n",
       "\t57 & 29 &   2 & 1 & 53 & 1 & GN    & 1.5\\\\\n",
       "\t58 & 29 &  25 & 1 & 53 & 1 & GN    & 1.5\\\\\n",
       "\t59 & 30 & 130 & 1 & 54 & 2 & GN    & 1.5\\\\\n",
       "\t60 & 30 &  26 & 1 & 54 & 2 & GN    & 1.5\\\\\n",
       "\t61 & 31 &  27 & 1 & 56 & 2 & AN    & 1.7\\\\\n",
       "\t62 & 31 &  58 & 1 & 56 & 2 & AN    & 1.7\\\\\n",
       "\t63 & 32 &   5 & 0 & 50 & 2 & AN    & 1.3\\\\\n",
       "\t64 & 32 &  43 & 1 & 51 & 2 & AN    & 1.3\\\\\n",
       "\t65 & 33 & 152 & 1 & 57 & 2 & PKD   & 2.9\\\\\n",
       "\t66 & 33 &  30 & 1 & 57 & 2 & PKD   & 2.9\\\\\n",
       "\t67 & 34 & 190 & 1 & 44 & 2 & GN    & 0.7\\\\\n",
       "\t68 & 34 &   5 & 0 & 45 & 2 & GN    & 0.7\\\\\n",
       "\t69 & 35 & 119 & 1 & 22 & 2 & Other & 2.2\\\\\n",
       "\t70 & 35 &   8 & 1 & 22 & 2 & Other & 2.2\\\\\n",
       "\t71 & 36 &  54 & 0 & 42 & 2 & Other & 0.7\\\\\n",
       "\t72 & 36 &  16 & 0 & 42 & 2 & Other & 0.7\\\\\n",
       "\t73 & 37 &   6 & 0 & 52 & 2 & PKD   & 2.1\\\\\n",
       "\t74 & 37 &  78 & 1 & 52 & 2 & PKD   & 2.1\\\\\n",
       "\t75 & 38 &  63 & 1 & 60 & 1 & PKD   & 1.2\\\\\n",
       "\t76 & 38 &   8 & 0 & 60 & 1 & PKD   & 1.2\\\\\n",
       "\\end{tabular}\n"
      ],
      "text/markdown": [
       "\n",
       "A data.frame: 76 × 7\n",
       "\n",
       "| <!--/--> | id &lt;dbl&gt; | time &lt;dbl&gt; | status &lt;dbl&gt; | age &lt;dbl&gt; | sex &lt;dbl&gt; | disease &lt;fct&gt; | frail &lt;dbl&gt; |\n",
       "|---|---|---|---|---|---|---|---|\n",
       "| 1 |  1 |   8 | 1 | 28 | 1 | Other | 2.3 |\n",
       "| 2 |  1 |  16 | 1 | 28 | 1 | Other | 2.3 |\n",
       "| 3 |  2 |  23 | 1 | 48 | 2 | GN    | 1.9 |\n",
       "| 4 |  2 |  13 | 0 | 48 | 2 | GN    | 1.9 |\n",
       "| 5 |  3 |  22 | 1 | 32 | 1 | Other | 1.2 |\n",
       "| 6 |  3 |  28 | 1 | 32 | 1 | Other | 1.2 |\n",
       "| 7 |  4 | 447 | 1 | 31 | 2 | Other | 0.5 |\n",
       "| 8 |  4 | 318 | 1 | 32 | 2 | Other | 0.5 |\n",
       "| 9 |  5 |  30 | 1 | 10 | 1 | Other | 1.5 |\n",
       "| 10 |  5 |  12 | 1 | 10 | 1 | Other | 1.5 |\n",
       "| 11 |  6 |  24 | 1 | 16 | 2 | Other | 1.1 |\n",
       "| 12 |  6 | 245 | 1 | 17 | 2 | Other | 1.1 |\n",
       "| 13 |  7 |   7 | 1 | 51 | 1 | GN    | 3.0 |\n",
       "| 14 |  7 |   9 | 1 | 51 | 1 | GN    | 3.0 |\n",
       "| 15 |  8 | 511 | 1 | 55 | 2 | GN    | 0.5 |\n",
       "| 16 |  8 |  30 | 1 | 56 | 2 | GN    | 0.5 |\n",
       "| 17 |  9 |  53 | 1 | 69 | 2 | AN    | 0.7 |\n",
       "| 18 |  9 | 196 | 1 | 69 | 2 | AN    | 0.7 |\n",
       "| 19 | 10 |  15 | 1 | 51 | 1 | GN    | 0.4 |\n",
       "| 20 | 10 | 154 | 1 | 52 | 1 | GN    | 0.4 |\n",
       "| 21 | 11 |   7 | 1 | 44 | 2 | AN    | 0.6 |\n",
       "| 22 | 11 | 333 | 1 | 44 | 2 | AN    | 0.6 |\n",
       "| 23 | 12 | 141 | 1 | 34 | 2 | Other | 1.2 |\n",
       "| 24 | 12 |   8 | 0 | 34 | 2 | Other | 1.2 |\n",
       "| 25 | 13 |  96 | 1 | 35 | 2 | AN    | 1.4 |\n",
       "| 26 | 13 |  38 | 1 | 35 | 2 | AN    | 1.4 |\n",
       "| 27 | 14 | 149 | 0 | 42 | 2 | AN    | 0.4 |\n",
       "| 28 | 14 |  70 | 0 | 42 | 2 | AN    | 0.4 |\n",
       "| 29 | 15 | 536 | 1 | 17 | 2 | Other | 0.4 |\n",
       "| 30 | 15 |  25 | 0 | 17 | 2 | Other | 0.4 |\n",
       "| ⋮ | ⋮ | ⋮ | ⋮ | ⋮ | ⋮ | ⋮ | ⋮ |\n",
       "| 47 | 24 |  39 | 1 | 42 | 2 | AN    | 1.0 |\n",
       "| 48 | 24 |  46 | 0 | 43 | 2 | AN    | 1.0 |\n",
       "| 49 | 25 |  12 | 1 | 43 | 1 | AN    | 0.7 |\n",
       "| 50 | 25 |  40 | 1 | 43 | 1 | AN    | 0.7 |\n",
       "| 51 | 26 | 113 | 0 | 57 | 2 | AN    | 0.5 |\n",
       "| 52 | 26 | 201 | 1 | 58 | 2 | AN    | 0.5 |\n",
       "| 53 | 27 | 132 | 1 | 10 | 2 | GN    | 1.1 |\n",
       "| 54 | 27 | 156 | 1 | 10 | 2 | GN    | 1.1 |\n",
       "| 55 | 28 |  34 | 1 | 52 | 2 | AN    | 1.8 |\n",
       "| 56 | 28 |  30 | 1 | 52 | 2 | AN    | 1.8 |\n",
       "| 57 | 29 |   2 | 1 | 53 | 1 | GN    | 1.5 |\n",
       "| 58 | 29 |  25 | 1 | 53 | 1 | GN    | 1.5 |\n",
       "| 59 | 30 | 130 | 1 | 54 | 2 | GN    | 1.5 |\n",
       "| 60 | 30 |  26 | 1 | 54 | 2 | GN    | 1.5 |\n",
       "| 61 | 31 |  27 | 1 | 56 | 2 | AN    | 1.7 |\n",
       "| 62 | 31 |  58 | 1 | 56 | 2 | AN    | 1.7 |\n",
       "| 63 | 32 |   5 | 0 | 50 | 2 | AN    | 1.3 |\n",
       "| 64 | 32 |  43 | 1 | 51 | 2 | AN    | 1.3 |\n",
       "| 65 | 33 | 152 | 1 | 57 | 2 | PKD   | 2.9 |\n",
       "| 66 | 33 |  30 | 1 | 57 | 2 | PKD   | 2.9 |\n",
       "| 67 | 34 | 190 | 1 | 44 | 2 | GN    | 0.7 |\n",
       "| 68 | 34 |   5 | 0 | 45 | 2 | GN    | 0.7 |\n",
       "| 69 | 35 | 119 | 1 | 22 | 2 | Other | 2.2 |\n",
       "| 70 | 35 |   8 | 1 | 22 | 2 | Other | 2.2 |\n",
       "| 71 | 36 |  54 | 0 | 42 | 2 | Other | 0.7 |\n",
       "| 72 | 36 |  16 | 0 | 42 | 2 | Other | 0.7 |\n",
       "| 73 | 37 |   6 | 0 | 52 | 2 | PKD   | 2.1 |\n",
       "| 74 | 37 |  78 | 1 | 52 | 2 | PKD   | 2.1 |\n",
       "| 75 | 38 |  63 | 1 | 60 | 1 | PKD   | 1.2 |\n",
       "| 76 | 38 |   8 | 0 | 60 | 1 | PKD   | 1.2 |\n",
       "\n"
      ],
      "text/plain": [
       "   id time status age sex disease frail\n",
       "1   1   8  1      28  1   Other   2.3  \n",
       "2   1  16  1      28  1   Other   2.3  \n",
       "3   2  23  1      48  2   GN      1.9  \n",
       "4   2  13  0      48  2   GN      1.9  \n",
       "5   3  22  1      32  1   Other   1.2  \n",
       "6   3  28  1      32  1   Other   1.2  \n",
       "7   4 447  1      31  2   Other   0.5  \n",
       "8   4 318  1      32  2   Other   0.5  \n",
       "9   5  30  1      10  1   Other   1.5  \n",
       "10  5  12  1      10  1   Other   1.5  \n",
       "11  6  24  1      16  2   Other   1.1  \n",
       "12  6 245  1      17  2   Other   1.1  \n",
       "13  7   7  1      51  1   GN      3.0  \n",
       "14  7   9  1      51  1   GN      3.0  \n",
       "15  8 511  1      55  2   GN      0.5  \n",
       "16  8  30  1      56  2   GN      0.5  \n",
       "17  9  53  1      69  2   AN      0.7  \n",
       "18  9 196  1      69  2   AN      0.7  \n",
       "19 10  15  1      51  1   GN      0.4  \n",
       "20 10 154  1      52  1   GN      0.4  \n",
       "21 11   7  1      44  2   AN      0.6  \n",
       "22 11 333  1      44  2   AN      0.6  \n",
       "23 12 141  1      34  2   Other   1.2  \n",
       "24 12   8  0      34  2   Other   1.2  \n",
       "25 13  96  1      35  2   AN      1.4  \n",
       "26 13  38  1      35  2   AN      1.4  \n",
       "27 14 149  0      42  2   AN      0.4  \n",
       "28 14  70  0      42  2   AN      0.4  \n",
       "29 15 536  1      17  2   Other   0.4  \n",
       "30 15  25  0      17  2   Other   0.4  \n",
       "⋮  ⋮  ⋮    ⋮      ⋮   ⋮   ⋮       ⋮    \n",
       "47 24  39  1      42  2   AN      1.0  \n",
       "48 24  46  0      43  2   AN      1.0  \n",
       "49 25  12  1      43  1   AN      0.7  \n",
       "50 25  40  1      43  1   AN      0.7  \n",
       "51 26 113  0      57  2   AN      0.5  \n",
       "52 26 201  1      58  2   AN      0.5  \n",
       "53 27 132  1      10  2   GN      1.1  \n",
       "54 27 156  1      10  2   GN      1.1  \n",
       "55 28  34  1      52  2   AN      1.8  \n",
       "56 28  30  1      52  2   AN      1.8  \n",
       "57 29   2  1      53  1   GN      1.5  \n",
       "58 29  25  1      53  1   GN      1.5  \n",
       "59 30 130  1      54  2   GN      1.5  \n",
       "60 30  26  1      54  2   GN      1.5  \n",
       "61 31  27  1      56  2   AN      1.7  \n",
       "62 31  58  1      56  2   AN      1.7  \n",
       "63 32   5  0      50  2   AN      1.3  \n",
       "64 32  43  1      51  2   AN      1.3  \n",
       "65 33 152  1      57  2   PKD     2.9  \n",
       "66 33  30  1      57  2   PKD     2.9  \n",
       "67 34 190  1      44  2   GN      0.7  \n",
       "68 34   5  0      45  2   GN      0.7  \n",
       "69 35 119  1      22  2   Other   2.2  \n",
       "70 35   8  1      22  2   Other   2.2  \n",
       "71 36  54  0      42  2   Other   0.7  \n",
       "72 36  16  0      42  2   Other   0.7  \n",
       "73 37   6  0      52  2   PKD     2.1  \n",
       "74 37  78  1      52  2   PKD     2.1  \n",
       "75 38  63  1      60  1   PKD     1.2  \n",
       "76 38   8  0      60  1   PKD     1.2  "
      ]
     },
     "metadata": {},
     "output_type": "display_data"
    }
   ],
   "source": [
    "kidney"
   ]
  },
  {
   "cell_type": "code",
   "execution_count": 63,
   "metadata": {
    "vscode": {
     "languageId": "r"
    }
   },
   "outputs": [
    {
     "data": {
      "text/plain": [
       "Call:\n",
       "coxph(formula = Surv(time, status) ~ sex + disease, data = kidney)\n",
       "\n",
       "              coef exp(coef) se(coef)      z        p\n",
       "sex        -1.4774    0.2282   0.3569 -4.140 3.48e-05\n",
       "diseaseGN   0.1392    1.1494   0.3635  0.383   0.7017\n",
       "diseaseAN   0.4132    1.5116   0.3360  1.230   0.2188\n",
       "diseasePKD -1.3671    0.2549   0.5889 -2.321   0.0203\n",
       "\n",
       "Likelihood ratio test=17.56  on 4 df, p=0.001501\n",
       "n= 76, number of events= 58 "
      ]
     },
     "metadata": {},
     "output_type": "display_data"
    }
   ],
   "source": [
    "(kidney.cox = coxph(Surv(time, status)~sex+disease, data=kidney))"
   ]
  },
  {
   "cell_type": "code",
   "execution_count": 64,
   "metadata": {
    "vscode": {
     "languageId": "r"
    }
   },
   "outputs": [
    {
     "data": {
      "text/plain": [
       "Call:\n",
       "coxph(formula = Surv(time, status) ~ sex + disease, data = kidney)\n",
       "\n",
       "  n= 76, number of events= 58 \n",
       "\n",
       "              coef exp(coef) se(coef)      z Pr(>|z|)    \n",
       "sex        -1.4774    0.2282   0.3569 -4.140 3.48e-05 ***\n",
       "diseaseGN   0.1392    1.1494   0.3635  0.383   0.7017    \n",
       "diseaseAN   0.4132    1.5116   0.3360  1.230   0.2188    \n",
       "diseasePKD -1.3671    0.2549   0.5889 -2.321   0.0203 *  \n",
       "---\n",
       "Signif. codes:  0 ‘***’ 0.001 ‘**’ 0.01 ‘*’ 0.05 ‘.’ 0.1 ‘ ’ 1\n",
       "\n",
       "           exp(coef) exp(-coef) lower .95 upper .95\n",
       "sex           0.2282     4.3815   0.11339    0.4594\n",
       "diseaseGN     1.1494     0.8700   0.56368    2.3437\n",
       "diseaseAN     1.5116     0.6616   0.78245    2.9202\n",
       "diseasePKD    0.2549     3.9238   0.08035    0.8084\n",
       "\n",
       "Concordance= 0.696  (se = 0.039 )\n",
       "Likelihood ratio test= 17.56  on 4 df,   p=0.002\n",
       "Wald test            = 19.77  on 4 df,   p=6e-04\n",
       "Score (logrank) test = 19.97  on 4 df,   p=5e-04\n"
      ]
     },
     "metadata": {},
     "output_type": "display_data"
    }
   ],
   "source": [
    "summary(kidney.cox)"
   ]
  },
  {
   "cell_type": "code",
   "execution_count": 66,
   "metadata": {
    "vscode": {
     "languageId": "r"
    }
   },
   "outputs": [
    {
     "data": {
      "image/png": "[encoded data removed]",
      "text/plain": [
       "plot without title"
      ]
     },
     "metadata": {
      "image/png": {
       "height": 420,
       "width": 420
      }
     },
     "output_type": "display_data"
    }
   ],
   "source": [
    "plot(survfit(kidney.cox))"
   ]
  },
  {
   "cell_type": "code",
   "execution_count": null,
   "metadata": {
    "vscode": {
     "languageId": "r"
    }
   },
   "outputs": [],
   "source": []
  }
 ],
 "metadata": {
  "kernelspec": {
   "display_name": "R",
   "language": "R",
   "name": "ir"
  },
  "language_info": {
   "codemirror_mode": "r",
   "file_extension": ".r",
   "mimetype": "text/x-r-source",
   "name": "R",
   "pygments_lexer": "r",
   "version": "4.1.3"
  },
  "orig_nbformat": 4
 },
 "nbformat": 4,
 "nbformat_minor": 2
}
